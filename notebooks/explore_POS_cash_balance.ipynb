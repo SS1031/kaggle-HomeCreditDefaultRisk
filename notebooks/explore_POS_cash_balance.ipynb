{
 "cells": [
  {
   "cell_type": "markdown",
   "metadata": {},
   "source": [
    "<b>POS_CASH_balance.csv</b>\n",
    "- Monthly balance snapshots of previous POS (point of sales) and cash loans that the applicant had with Home Credit.\n",
    "- This table has one row for each month of history of every previous credit in Home Credit (consumer credit and cash loans) related to loans in our sample – i.e. the table has (#loans in sample * # of relative previous credits * # of months in which we have some history observable for the previous credits) rows.\n",
    "\n",
    "\n",
    "<a id=\"top\"></a>\n",
    "- [Overview](#overview)\n",
    "- [SK_ID_PREV](#sk-id-prev)\n",
    "- [SK_ID_CURR](#sk-id-curr)\n",
    "- [MONTHS_BALANCE](#months-balance)\n",
    "- [CNT_INSTALMENT](#cnt-instalment)\n",
    "- [CNT_INSTALMENT_FUTURE](#cnt-insalment-future)\n",
    "- [NAME_CONTRACT_STATUS](#name-contract-status)\n",
    "- [SK_DPD](#sk-dpd)\n",
    "- [SK_DPD_DEF](#sk-dpd-def)\n"
   ]
  },
  {
   "cell_type": "markdown",
   "metadata": {},
   "source": [
    "## Prepare"
   ]
  },
  {
   "cell_type": "code",
   "execution_count": 1,
   "metadata": {},
   "outputs": [],
   "source": [
    "import feather\n",
    "import numpy as np\n",
    "import pandas as pd\n",
    "import matplotlib.pyplot as plt\n",
    "import seaborn as sns\n",
    "pd.options.display.max_rows = 999\n",
    "\n",
    "# データロード\n",
    "pos =  feather.read_dataframe('../input/POS_CASH_balance.feather')\n",
    "app_trn = feather.read_dataframe('../input/application_train.feather')\n",
    "\n",
    "\n",
    "def target_bar(df, col, title=None):\n",
    "\n",
    "    df0 = df[df[\"TARGET\"] == 0]\n",
    "    df1 = df[df[\"TARGET\"] == 1]\n",
    "\n",
    "    t0 = df0[col].value_counts().rename(col + '0')\n",
    "    t1 = df1[col].value_counts().rename(col + '1')\n",
    "    t = pd.concat([t0, t1], axis=1).fillna(0).astype(int)\n",
    "    t['total'] = t.sum(axis=1)\n",
    "    t.sort_values('total', inplace=True, ascending=False)\n",
    "    t.drop(columns=['total'], inplace=True)\n",
    "\n",
    "    idx = np.arange(len(t))\n",
    "    width = 0.35\n",
    "\n",
    "    fig, ax = plt.subplots(figsize=(12, 6))\n",
    "\n",
    "    p1 = ax.bar(idx, t[col + '0'], width)\n",
    "    p2 = ax.bar(idx+width, t[col + '1'], width)\n",
    "    ax.legend((p1[0], p2[0]), ('Target=0', 'Target=1'))\n",
    "    ax.set_title(title)\n",
    "    ax.set_xticks(idx + width / 2)\n",
    "    ax.set_xticklabels(t.index.values, rotation=45)\n",
    "\n",
    "    plt.show()\n",
    "    \n",
    "def target_hist(df, col, title):\n",
    "\n",
    "    df0 = df[df[\"TARGET\"] == 0]\n",
    "    df1 = df[df[\"TARGET\"] == 1]\n",
    "\n",
    "    fig, axes = plt.subplots(1, 2, figsize=(12, 6))\n",
    "    sns.distplot(df0[col].dropna(), ax=axes[0], color='b')\n",
    "    axes[0].set_title('Target=0')\n",
    "    sns.distplot(df1[col].dropna(), ax=axes[1], color='orange')\n",
    "    axes[1].set_title('Target=1')\n",
    "    fig.suptitle(title)\n",
    "    plt.show()"
   ]
  },
  {
   "cell_type": "markdown",
   "metadata": {},
   "source": [
    "<a id='overview'></a>\n",
    "## Overview"
   ]
  },
  {
   "cell_type": "code",
   "execution_count": 2,
   "metadata": {},
   "outputs": [
    {
     "data": {
      "text/html": [
       "<div>\n",
       "<style scoped>\n",
       "    .dataframe tbody tr th:only-of-type {\n",
       "        vertical-align: middle;\n",
       "    }\n",
       "\n",
       "    .dataframe tbody tr th {\n",
       "        vertical-align: top;\n",
       "    }\n",
       "\n",
       "    .dataframe thead th {\n",
       "        text-align: right;\n",
       "    }\n",
       "</style>\n",
       "<table border=\"1\" class=\"dataframe\">\n",
       "  <thead>\n",
       "    <tr style=\"text-align: right;\">\n",
       "      <th></th>\n",
       "      <th>SK_ID_PREV</th>\n",
       "      <th>SK_ID_CURR</th>\n",
       "      <th>MONTHS_BALANCE</th>\n",
       "      <th>CNT_INSTALMENT</th>\n",
       "      <th>CNT_INSTALMENT_FUTURE</th>\n",
       "      <th>NAME_CONTRACT_STATUS</th>\n",
       "      <th>SK_DPD</th>\n",
       "      <th>SK_DPD_DEF</th>\n",
       "    </tr>\n",
       "  </thead>\n",
       "  <tbody>\n",
       "    <tr>\n",
       "      <th>0</th>\n",
       "      <td>1803195</td>\n",
       "      <td>182943</td>\n",
       "      <td>-31</td>\n",
       "      <td>48.0</td>\n",
       "      <td>45.0</td>\n",
       "      <td>Active</td>\n",
       "      <td>0</td>\n",
       "      <td>0</td>\n",
       "    </tr>\n",
       "    <tr>\n",
       "      <th>1</th>\n",
       "      <td>1715348</td>\n",
       "      <td>367990</td>\n",
       "      <td>-33</td>\n",
       "      <td>36.0</td>\n",
       "      <td>35.0</td>\n",
       "      <td>Active</td>\n",
       "      <td>0</td>\n",
       "      <td>0</td>\n",
       "    </tr>\n",
       "    <tr>\n",
       "      <th>2</th>\n",
       "      <td>1784872</td>\n",
       "      <td>397406</td>\n",
       "      <td>-32</td>\n",
       "      <td>12.0</td>\n",
       "      <td>9.0</td>\n",
       "      <td>Active</td>\n",
       "      <td>0</td>\n",
       "      <td>0</td>\n",
       "    </tr>\n",
       "    <tr>\n",
       "      <th>3</th>\n",
       "      <td>1903291</td>\n",
       "      <td>269225</td>\n",
       "      <td>-35</td>\n",
       "      <td>48.0</td>\n",
       "      <td>42.0</td>\n",
       "      <td>Active</td>\n",
       "      <td>0</td>\n",
       "      <td>0</td>\n",
       "    </tr>\n",
       "    <tr>\n",
       "      <th>4</th>\n",
       "      <td>2341044</td>\n",
       "      <td>334279</td>\n",
       "      <td>-35</td>\n",
       "      <td>36.0</td>\n",
       "      <td>35.0</td>\n",
       "      <td>Active</td>\n",
       "      <td>0</td>\n",
       "      <td>0</td>\n",
       "    </tr>\n",
       "  </tbody>\n",
       "</table>\n",
       "</div>"
      ],
      "text/plain": [
       "   SK_ID_PREV  SK_ID_CURR  MONTHS_BALANCE  CNT_INSTALMENT  \\\n",
       "0     1803195      182943             -31            48.0   \n",
       "1     1715348      367990             -33            36.0   \n",
       "2     1784872      397406             -32            12.0   \n",
       "3     1903291      269225             -35            48.0   \n",
       "4     2341044      334279             -35            36.0   \n",
       "\n",
       "   CNT_INSTALMENT_FUTURE NAME_CONTRACT_STATUS  SK_DPD  SK_DPD_DEF  \n",
       "0                   45.0               Active       0           0  \n",
       "1                   35.0               Active       0           0  \n",
       "2                    9.0               Active       0           0  \n",
       "3                   42.0               Active       0           0  \n",
       "4                   35.0               Active       0           0  "
      ]
     },
     "execution_count": 2,
     "metadata": {},
     "output_type": "execute_result"
    }
   ],
   "source": [
    "pos.head()"
   ]
  },
  {
   "cell_type": "code",
   "execution_count": 3,
   "metadata": {},
   "outputs": [
    {
     "name": "stdout",
     "output_type": "stream",
     "text": [
      "<class 'pandas.core.frame.DataFrame'>\n",
      "RangeIndex: 10001358 entries, 0 to 10001357\n",
      "Data columns (total 8 columns):\n",
      "SK_ID_PREV               int64\n",
      "SK_ID_CURR               int64\n",
      "MONTHS_BALANCE           int64\n",
      "CNT_INSTALMENT           float64\n",
      "CNT_INSTALMENT_FUTURE    float64\n",
      "NAME_CONTRACT_STATUS     object\n",
      "SK_DPD                   int64\n",
      "SK_DPD_DEF               int64\n",
      "dtypes: float64(2), int64(5), object(1)\n",
      "memory usage: 610.4+ MB\n"
     ]
    }
   ],
   "source": [
    "pos.info()"
   ]
  },
  {
   "cell_type": "code",
   "execution_count": 4,
   "metadata": {},
   "outputs": [
    {
     "data": {
      "text/plain": [
       "SK_ID_PREV               1.000000\n",
       "SK_ID_CURR               1.000000\n",
       "MONTHS_BALANCE           1.000000\n",
       "CNT_INSTALMENT           0.997393\n",
       "CNT_INSTALMENT_FUTURE    0.997392\n",
       "NAME_CONTRACT_STATUS     1.000000\n",
       "SK_DPD                   1.000000\n",
       "SK_DPD_DEF               1.000000\n",
       "dtype: float64"
      ]
     },
     "execution_count": 4,
     "metadata": {},
     "output_type": "execute_result"
    }
   ],
   "source": [
    "pos.notnull().sum() / len(pos)"
   ]
  },
  {
   "cell_type": "markdown",
   "metadata": {},
   "source": [
    "<div style=\"text-align: right;\">\n",
    "[back to top](#top)\n",
    "</div>"
   ]
  },
  {
   "cell_type": "markdown",
   "metadata": {},
   "source": [
    "<a id=\"sk-id-prev\"></a>\n",
    "## SK_ID_PREV\n",
    "decription : ID of previous credit in Home Credit related to loan in our sample. (One loan in our sample can have 0,1,2 or more previous loans in Home Credit)"
   ]
  },
  {
   "cell_type": "code",
   "execution_count": 5,
   "metadata": {},
   "outputs": [
    {
     "data": {
      "image/png": "[encoded data removed]",
      "text/plain": [
       "<Figure size 864x432 with 1 Axes>"
      ]
     },
     "metadata": {},
     "output_type": "display_data"
    }
   ],
   "source": [
    "pos.SK_ID_PREV. value_counts().hist(bins=50, figsize=(12, 6))\n",
    "plt.show()"
   ]
  },
  {
   "cell_type": "markdown",
   "metadata": {},
   "source": [
    "SK_ID_PREVが複数回出現している。ちょっとよくわからない。"
   ]
  },
  {
   "cell_type": "markdown",
   "metadata": {},
   "source": [
    "<div style=\"text-align: right;\">\n",
    "[back to top](#top)\n",
    "</div>"
   ]
  },
  {
   "cell_type": "markdown",
   "metadata": {},
   "source": [
    "<a id=\"sk-id-curr\"></a>\n",
    "## SK_ID_CURR\n",
    "description : ID of loan in our sample"
   ]
  },
  {
   "cell_type": "code",
   "execution_count": 6,
   "metadata": {},
   "outputs": [
    {
     "data": {
      "image/png": "[encoded data removed]",
      "text/plain": [
       "<Figure size 864x432 with 1 Axes>"
      ]
     },
     "metadata": {},
     "output_type": "display_data"
    }
   ],
   "source": [
    "pos.SK_ID_CURR. value_counts().hist(bins=50, figsize=(12, 6))\n",
    "plt.show()"
   ]
  },
  {
   "cell_type": "code",
   "execution_count": 7,
   "metadata": {},
   "outputs": [
    {
     "name": "stdout",
     "output_type": "stream",
     "text": [
      "SK_ID_CURR            1.000000\n",
      "TARGET                1.000000\n",
      "CNT_POS_SK_ID_CURR    0.941248\n",
      "dtype: float64\n"
     ]
    },
    {
     "name": "stderr",
     "output_type": "stream",
     "text": [
      "c:\\users\\km65673\\appdata\\local\\continuum\\anaconda3\\lib\\site-packages\\matplotlib\\axes\\_axes.py:6448: UserWarning: The 'normed' kwarg is deprecated, and has been replaced by the 'density' kwarg.\n",
      "  warnings.warn(\"The 'normed' kwarg is deprecated, and has been \"\n"
     ]
    },
    {
     "data": {
      "image/png": "[encoded data removed]",
      "text/plain": [
       "<Figure size 864x432 with 2 Axes>"
      ]
     },
     "metadata": {},
     "output_type": "display_data"
    }
   ],
   "source": [
    "pos_cnt_sk_id_curr = pos.groupby('SK_ID_CURR').size().rename('CNT_POS_SK_ID_CURR').reset_index()\n",
    "\n",
    "app_pos_cnt_sk_id_curr = app_trn[['SK_ID_CURR', 'TARGET']].merge(pos_cnt_sk_id_curr, on='SK_ID_CURR', how='left')\n",
    "print(app_pos_cnt_sk_id_curr.notnull().sum() / len(app_pos_cnt_sk_id_curr))\n",
    "target_hist(app_pos_cnt_sk_id_curr, 'CNT_POS_SK_ID_CURR', 'Distribution of CNT_POS_SK_ID_CURR by TARGET')"
   ]
  },
  {
   "cell_type": "markdown",
   "metadata": {},
   "source": [
    "- 94%ほどのSK_ID_CURRはprevious creditを持っている\n",
    "- TARGET = 0の方が分布の裾が長い、たくさんprevious creditがある方が実績あって信頼できる？"
   ]
  },
  {
   "cell_type": "markdown",
   "metadata": {},
   "source": [
    "<div style=\"text-align: right;\">\n",
    "[back to top](#top)\n",
    "</div>"
   ]
  },
  {
   "cell_type": "markdown",
   "metadata": {},
   "source": [
    "<a id=\"months-balance\"></a>\n",
    "## MONTHS_BALANCE\n",
    "description : Month of balance relative to application date (-1 means the information to the freshest monthly snapshot, 0 means the information at application - often it will be the same as -1 as many banks are not updating the information to Credit Bureau regularly )"
   ]
  },
  {
   "cell_type": "code",
   "execution_count": 8,
   "metadata": {},
   "outputs": [
    {
     "data": {
      "text/plain": [
       "count    1.000136e+07\n",
       "mean    -3.501259e+01\n",
       "std      2.606657e+01\n",
       "min     -9.600000e+01\n",
       "25%     -5.400000e+01\n",
       "50%     -2.800000e+01\n",
       "75%     -1.300000e+01\n",
       "max     -1.000000e+00\n",
       "Name: MONTHS_BALANCE, dtype: float64"
      ]
     },
     "execution_count": 8,
     "metadata": {},
     "output_type": "execute_result"
    }
   ],
   "source": [
    "pos.MONTHS_BALANCE.describe()"
   ]
  },
  {
   "cell_type": "code",
   "execution_count": 9,
   "metadata": {},
   "outputs": [
    {
     "name": "stderr",
     "output_type": "stream",
     "text": [
      "c:\\users\\km65673\\appdata\\local\\continuum\\anaconda3\\lib\\site-packages\\matplotlib\\axes\\_axes.py:6448: UserWarning: The 'normed' kwarg is deprecated, and has been replaced by the 'density' kwarg.\n",
      "  warnings.warn(\"The 'normed' kwarg is deprecated, and has been \"\n"
     ]
    },
    {
     "data": {
      "image/png": "[encoded data removed]",
      "text/plain": [
       "<Figure size 864x432 with 2 Axes>"
      ]
     },
     "metadata": {},
     "output_type": "display_data"
    }
   ],
   "source": [
    "pos_months_balance = pos[['SK_ID_CURR', 'MONTHS_BALANCE']].copy().merge(\n",
    "    app_trn[['SK_ID_CURR', 'TARGET']], on='SK_ID_CURR', how='left'\n",
    ")\n",
    "target_hist(pos_months_balance, 'MONTHS_BALANCE', 'Distribution of MONTHS_BALANCE by TARGET')"
   ]
  },
  {
   "cell_type": "markdown",
   "metadata": {},
   "source": [
    "情報の古さがわかる？同じSK_ID_PREVだと重複しないということか？"
   ]
  },
  {
   "cell_type": "code",
   "execution_count": 10,
   "metadata": {
    "scrolled": false
   },
   "outputs": [
    {
     "data": {
      "text/html": [
       "<div>\n",
       "<style scoped>\n",
       "    .dataframe tbody tr th:only-of-type {\n",
       "        vertical-align: middle;\n",
       "    }\n",
       "\n",
       "    .dataframe tbody tr th {\n",
       "        vertical-align: top;\n",
       "    }\n",
       "\n",
       "    .dataframe thead th {\n",
       "        text-align: right;\n",
       "    }\n",
       "</style>\n",
       "<table border=\"1\" class=\"dataframe\">\n",
       "  <thead>\n",
       "    <tr style=\"text-align: right;\">\n",
       "      <th></th>\n",
       "      <th>SK_ID_PREV</th>\n",
       "      <th>SK_ID_CURR</th>\n",
       "      <th>MONTHS_BALANCE</th>\n",
       "      <th>CNT_INSTALMENT</th>\n",
       "      <th>CNT_INSTALMENT_FUTURE</th>\n",
       "      <th>NAME_CONTRACT_STATUS</th>\n",
       "      <th>SK_DPD</th>\n",
       "      <th>SK_DPD_DEF</th>\n",
       "    </tr>\n",
       "  </thead>\n",
       "  <tbody>\n",
       "    <tr>\n",
       "      <th>10</th>\n",
       "      <td>2328294</td>\n",
       "      <td>287361</td>\n",
       "      <td>-32</td>\n",
       "      <td>12.0</td>\n",
       "      <td>12.0</td>\n",
       "      <td>Active</td>\n",
       "      <td>0</td>\n",
       "      <td>0</td>\n",
       "    </tr>\n",
       "    <tr>\n",
       "      <th>4720002</th>\n",
       "      <td>2328294</td>\n",
       "      <td>287361</td>\n",
       "      <td>-31</td>\n",
       "      <td>12.0</td>\n",
       "      <td>11.0</td>\n",
       "      <td>Active</td>\n",
       "      <td>0</td>\n",
       "      <td>0</td>\n",
       "    </tr>\n",
       "    <tr>\n",
       "      <th>4792596</th>\n",
       "      <td>2328294</td>\n",
       "      <td>287361</td>\n",
       "      <td>-30</td>\n",
       "      <td>12.0</td>\n",
       "      <td>10.0</td>\n",
       "      <td>Active</td>\n",
       "      <td>0</td>\n",
       "      <td>0</td>\n",
       "    </tr>\n",
       "    <tr>\n",
       "      <th>5514072</th>\n",
       "      <td>2328294</td>\n",
       "      <td>287361</td>\n",
       "      <td>-29</td>\n",
       "      <td>12.0</td>\n",
       "      <td>9.0</td>\n",
       "      <td>Active</td>\n",
       "      <td>0</td>\n",
       "      <td>0</td>\n",
       "    </tr>\n",
       "    <tr>\n",
       "      <th>6344380</th>\n",
       "      <td>2328294</td>\n",
       "      <td>287361</td>\n",
       "      <td>-28</td>\n",
       "      <td>12.0</td>\n",
       "      <td>8.0</td>\n",
       "      <td>Active</td>\n",
       "      <td>0</td>\n",
       "      <td>0</td>\n",
       "    </tr>\n",
       "    <tr>\n",
       "      <th>4991328</th>\n",
       "      <td>2328294</td>\n",
       "      <td>287361</td>\n",
       "      <td>-27</td>\n",
       "      <td>12.0</td>\n",
       "      <td>7.0</td>\n",
       "      <td>Active</td>\n",
       "      <td>0</td>\n",
       "      <td>0</td>\n",
       "    </tr>\n",
       "    <tr>\n",
       "      <th>3171258</th>\n",
       "      <td>2328294</td>\n",
       "      <td>287361</td>\n",
       "      <td>-26</td>\n",
       "      <td>12.0</td>\n",
       "      <td>6.0</td>\n",
       "      <td>Active</td>\n",
       "      <td>0</td>\n",
       "      <td>0</td>\n",
       "    </tr>\n",
       "    <tr>\n",
       "      <th>4570351</th>\n",
       "      <td>2328294</td>\n",
       "      <td>287361</td>\n",
       "      <td>-25</td>\n",
       "      <td>12.0</td>\n",
       "      <td>5.0</td>\n",
       "      <td>Active</td>\n",
       "      <td>0</td>\n",
       "      <td>0</td>\n",
       "    </tr>\n",
       "    <tr>\n",
       "      <th>3195709</th>\n",
       "      <td>2328294</td>\n",
       "      <td>287361</td>\n",
       "      <td>-24</td>\n",
       "      <td>12.0</td>\n",
       "      <td>4.0</td>\n",
       "      <td>Active</td>\n",
       "      <td>0</td>\n",
       "      <td>0</td>\n",
       "    </tr>\n",
       "    <tr>\n",
       "      <th>2638362</th>\n",
       "      <td>2328294</td>\n",
       "      <td>287361</td>\n",
       "      <td>-23</td>\n",
       "      <td>12.0</td>\n",
       "      <td>3.0</td>\n",
       "      <td>Active</td>\n",
       "      <td>0</td>\n",
       "      <td>0</td>\n",
       "    </tr>\n",
       "    <tr>\n",
       "      <th>2384477</th>\n",
       "      <td>2328294</td>\n",
       "      <td>287361</td>\n",
       "      <td>-22</td>\n",
       "      <td>12.0</td>\n",
       "      <td>2.0</td>\n",
       "      <td>Active</td>\n",
       "      <td>0</td>\n",
       "      <td>0</td>\n",
       "    </tr>\n",
       "    <tr>\n",
       "      <th>5046777</th>\n",
       "      <td>2328294</td>\n",
       "      <td>287361</td>\n",
       "      <td>-21</td>\n",
       "      <td>12.0</td>\n",
       "      <td>1.0</td>\n",
       "      <td>Active</td>\n",
       "      <td>0</td>\n",
       "      <td>0</td>\n",
       "    </tr>\n",
       "    <tr>\n",
       "      <th>438434</th>\n",
       "      <td>2328294</td>\n",
       "      <td>287361</td>\n",
       "      <td>-20</td>\n",
       "      <td>12.0</td>\n",
       "      <td>0.0</td>\n",
       "      <td>Completed</td>\n",
       "      <td>0</td>\n",
       "      <td>0</td>\n",
       "    </tr>\n",
       "  </tbody>\n",
       "</table>\n",
       "</div>"
      ],
      "text/plain": [
       "         SK_ID_PREV  SK_ID_CURR  MONTHS_BALANCE  CNT_INSTALMENT  \\\n",
       "10          2328294      287361             -32            12.0   \n",
       "4720002     2328294      287361             -31            12.0   \n",
       "4792596     2328294      287361             -30            12.0   \n",
       "5514072     2328294      287361             -29            12.0   \n",
       "6344380     2328294      287361             -28            12.0   \n",
       "4991328     2328294      287361             -27            12.0   \n",
       "3171258     2328294      287361             -26            12.0   \n",
       "4570351     2328294      287361             -25            12.0   \n",
       "3195709     2328294      287361             -24            12.0   \n",
       "2638362     2328294      287361             -23            12.0   \n",
       "2384477     2328294      287361             -22            12.0   \n",
       "5046777     2328294      287361             -21            12.0   \n",
       "438434      2328294      287361             -20            12.0   \n",
       "\n",
       "         CNT_INSTALMENT_FUTURE NAME_CONTRACT_STATUS  SK_DPD  SK_DPD_DEF  \n",
       "10                        12.0               Active       0           0  \n",
       "4720002                   11.0               Active       0           0  \n",
       "4792596                   10.0               Active       0           0  \n",
       "5514072                    9.0               Active       0           0  \n",
       "6344380                    8.0               Active       0           0  \n",
       "4991328                    7.0               Active       0           0  \n",
       "3171258                    6.0               Active       0           0  \n",
       "4570351                    5.0               Active       0           0  \n",
       "3195709                    4.0               Active       0           0  \n",
       "2638362                    3.0               Active       0           0  \n",
       "2384477                    2.0               Active       0           0  \n",
       "5046777                    1.0               Active       0           0  \n",
       "438434                     0.0            Completed       0           0  "
      ]
     },
     "execution_count": 10,
     "metadata": {},
     "output_type": "execute_result"
    }
   ],
   "source": [
    "pos[pos.SK_ID_PREV == pos.SK_ID_PREV.unique()[10]].sort_values('MONTHS_BALANCE')"
   ]
  },
  {
   "cell_type": "code",
   "execution_count": 11,
   "metadata": {},
   "outputs": [
    {
     "data": {
      "text/html": [
       "<div>\n",
       "<style scoped>\n",
       "    .dataframe tbody tr th:only-of-type {\n",
       "        vertical-align: middle;\n",
       "    }\n",
       "\n",
       "    .dataframe tbody tr th {\n",
       "        vertical-align: top;\n",
       "    }\n",
       "\n",
       "    .dataframe thead th {\n",
       "        text-align: right;\n",
       "    }\n",
       "</style>\n",
       "<table border=\"1\" class=\"dataframe\">\n",
       "  <thead>\n",
       "    <tr style=\"text-align: right;\">\n",
       "      <th></th>\n",
       "      <th>SK_ID_PREV</th>\n",
       "      <th>SK_ID_CURR</th>\n",
       "      <th>MONTHS_BALANCE</th>\n",
       "      <th>CNT_INSTALMENT</th>\n",
       "      <th>CNT_INSTALMENT_FUTURE</th>\n",
       "      <th>NAME_CONTRACT_STATUS</th>\n",
       "      <th>SK_DPD</th>\n",
       "      <th>SK_DPD_DEF</th>\n",
       "    </tr>\n",
       "  </thead>\n",
       "  <tbody>\n",
       "    <tr>\n",
       "      <th>6762551</th>\n",
       "      <td>2745205</td>\n",
       "      <td>114794</td>\n",
       "      <td>-53</td>\n",
       "      <td>24.0</td>\n",
       "      <td>24.0</td>\n",
       "      <td>Active</td>\n",
       "      <td>0</td>\n",
       "      <td>0</td>\n",
       "    </tr>\n",
       "    <tr>\n",
       "      <th>7173161</th>\n",
       "      <td>2745205</td>\n",
       "      <td>114794</td>\n",
       "      <td>-52</td>\n",
       "      <td>24.0</td>\n",
       "      <td>23.0</td>\n",
       "      <td>Active</td>\n",
       "      <td>0</td>\n",
       "      <td>0</td>\n",
       "    </tr>\n",
       "    <tr>\n",
       "      <th>7634534</th>\n",
       "      <td>2745205</td>\n",
       "      <td>114794</td>\n",
       "      <td>-51</td>\n",
       "      <td>24.0</td>\n",
       "      <td>22.0</td>\n",
       "      <td>Active</td>\n",
       "      <td>0</td>\n",
       "      <td>0</td>\n",
       "    </tr>\n",
       "    <tr>\n",
       "      <th>854403</th>\n",
       "      <td>2745205</td>\n",
       "      <td>114794</td>\n",
       "      <td>-50</td>\n",
       "      <td>24.0</td>\n",
       "      <td>21.0</td>\n",
       "      <td>Active</td>\n",
       "      <td>0</td>\n",
       "      <td>0</td>\n",
       "    </tr>\n",
       "    <tr>\n",
       "      <th>4569897</th>\n",
       "      <td>2745205</td>\n",
       "      <td>114794</td>\n",
       "      <td>-49</td>\n",
       "      <td>24.0</td>\n",
       "      <td>20.0</td>\n",
       "      <td>Active</td>\n",
       "      <td>0</td>\n",
       "      <td>0</td>\n",
       "    </tr>\n",
       "    <tr>\n",
       "      <th>4193965</th>\n",
       "      <td>2745205</td>\n",
       "      <td>114794</td>\n",
       "      <td>-48</td>\n",
       "      <td>24.0</td>\n",
       "      <td>19.0</td>\n",
       "      <td>Active</td>\n",
       "      <td>0</td>\n",
       "      <td>0</td>\n",
       "    </tr>\n",
       "    <tr>\n",
       "      <th>4040062</th>\n",
       "      <td>2745205</td>\n",
       "      <td>114794</td>\n",
       "      <td>-47</td>\n",
       "      <td>24.0</td>\n",
       "      <td>18.0</td>\n",
       "      <td>Active</td>\n",
       "      <td>0</td>\n",
       "      <td>0</td>\n",
       "    </tr>\n",
       "    <tr>\n",
       "      <th>3738685</th>\n",
       "      <td>2745205</td>\n",
       "      <td>114794</td>\n",
       "      <td>-46</td>\n",
       "      <td>24.0</td>\n",
       "      <td>17.0</td>\n",
       "      <td>Active</td>\n",
       "      <td>0</td>\n",
       "      <td>0</td>\n",
       "    </tr>\n",
       "    <tr>\n",
       "      <th>3118585</th>\n",
       "      <td>2745205</td>\n",
       "      <td>114794</td>\n",
       "      <td>-45</td>\n",
       "      <td>24.0</td>\n",
       "      <td>16.0</td>\n",
       "      <td>Active</td>\n",
       "      <td>0</td>\n",
       "      <td>0</td>\n",
       "    </tr>\n",
       "    <tr>\n",
       "      <th>1815866</th>\n",
       "      <td>2745205</td>\n",
       "      <td>114794</td>\n",
       "      <td>-44</td>\n",
       "      <td>24.0</td>\n",
       "      <td>15.0</td>\n",
       "      <td>Active</td>\n",
       "      <td>0</td>\n",
       "      <td>0</td>\n",
       "    </tr>\n",
       "    <tr>\n",
       "      <th>425574</th>\n",
       "      <td>2745205</td>\n",
       "      <td>114794</td>\n",
       "      <td>-43</td>\n",
       "      <td>24.0</td>\n",
       "      <td>14.0</td>\n",
       "      <td>Active</td>\n",
       "      <td>0</td>\n",
       "      <td>0</td>\n",
       "    </tr>\n",
       "    <tr>\n",
       "      <th>4617989</th>\n",
       "      <td>2745205</td>\n",
       "      <td>114794</td>\n",
       "      <td>-42</td>\n",
       "      <td>24.0</td>\n",
       "      <td>13.0</td>\n",
       "      <td>Active</td>\n",
       "      <td>0</td>\n",
       "      <td>0</td>\n",
       "    </tr>\n",
       "    <tr>\n",
       "      <th>2037</th>\n",
       "      <td>2745205</td>\n",
       "      <td>114794</td>\n",
       "      <td>-41</td>\n",
       "      <td>24.0</td>\n",
       "      <td>12.0</td>\n",
       "      <td>Active</td>\n",
       "      <td>0</td>\n",
       "      <td>0</td>\n",
       "    </tr>\n",
       "    <tr>\n",
       "      <th>1624750</th>\n",
       "      <td>2745205</td>\n",
       "      <td>114794</td>\n",
       "      <td>-40</td>\n",
       "      <td>24.0</td>\n",
       "      <td>10.0</td>\n",
       "      <td>Active</td>\n",
       "      <td>0</td>\n",
       "      <td>0</td>\n",
       "    </tr>\n",
       "    <tr>\n",
       "      <th>9156771</th>\n",
       "      <td>2745205</td>\n",
       "      <td>114794</td>\n",
       "      <td>-39</td>\n",
       "      <td>24.0</td>\n",
       "      <td>9.0</td>\n",
       "      <td>Active</td>\n",
       "      <td>0</td>\n",
       "      <td>0</td>\n",
       "    </tr>\n",
       "    <tr>\n",
       "      <th>5623621</th>\n",
       "      <td>2745205</td>\n",
       "      <td>114794</td>\n",
       "      <td>-38</td>\n",
       "      <td>24.0</td>\n",
       "      <td>8.0</td>\n",
       "      <td>Active</td>\n",
       "      <td>0</td>\n",
       "      <td>0</td>\n",
       "    </tr>\n",
       "    <tr>\n",
       "      <th>2758694</th>\n",
       "      <td>2745205</td>\n",
       "      <td>114794</td>\n",
       "      <td>-37</td>\n",
       "      <td>24.0</td>\n",
       "      <td>7.0</td>\n",
       "      <td>Active</td>\n",
       "      <td>0</td>\n",
       "      <td>0</td>\n",
       "    </tr>\n",
       "    <tr>\n",
       "      <th>6210801</th>\n",
       "      <td>2745205</td>\n",
       "      <td>114794</td>\n",
       "      <td>-36</td>\n",
       "      <td>24.0</td>\n",
       "      <td>6.0</td>\n",
       "      <td>Active</td>\n",
       "      <td>0</td>\n",
       "      <td>0</td>\n",
       "    </tr>\n",
       "    <tr>\n",
       "      <th>8208591</th>\n",
       "      <td>2745205</td>\n",
       "      <td>114794</td>\n",
       "      <td>-35</td>\n",
       "      <td>24.0</td>\n",
       "      <td>5.0</td>\n",
       "      <td>Active</td>\n",
       "      <td>0</td>\n",
       "      <td>0</td>\n",
       "    </tr>\n",
       "    <tr>\n",
       "      <th>9130493</th>\n",
       "      <td>2745205</td>\n",
       "      <td>114794</td>\n",
       "      <td>-34</td>\n",
       "      <td>20.0</td>\n",
       "      <td>0.0</td>\n",
       "      <td>Active</td>\n",
       "      <td>0</td>\n",
       "      <td>0</td>\n",
       "    </tr>\n",
       "    <tr>\n",
       "      <th>7778082</th>\n",
       "      <td>2745205</td>\n",
       "      <td>114794</td>\n",
       "      <td>-33</td>\n",
       "      <td>20.0</td>\n",
       "      <td>0.0</td>\n",
       "      <td>Completed</td>\n",
       "      <td>0</td>\n",
       "      <td>0</td>\n",
       "    </tr>\n",
       "  </tbody>\n",
       "</table>\n",
       "</div>"
      ],
      "text/plain": [
       "         SK_ID_PREV  SK_ID_CURR  MONTHS_BALANCE  CNT_INSTALMENT  \\\n",
       "6762551     2745205      114794             -53            24.0   \n",
       "7173161     2745205      114794             -52            24.0   \n",
       "7634534     2745205      114794             -51            24.0   \n",
       "854403      2745205      114794             -50            24.0   \n",
       "4569897     2745205      114794             -49            24.0   \n",
       "4193965     2745205      114794             -48            24.0   \n",
       "4040062     2745205      114794             -47            24.0   \n",
       "3738685     2745205      114794             -46            24.0   \n",
       "3118585     2745205      114794             -45            24.0   \n",
       "1815866     2745205      114794             -44            24.0   \n",
       "425574      2745205      114794             -43            24.0   \n",
       "4617989     2745205      114794             -42            24.0   \n",
       "2037        2745205      114794             -41            24.0   \n",
       "1624750     2745205      114794             -40            24.0   \n",
       "9156771     2745205      114794             -39            24.0   \n",
       "5623621     2745205      114794             -38            24.0   \n",
       "2758694     2745205      114794             -37            24.0   \n",
       "6210801     2745205      114794             -36            24.0   \n",
       "8208591     2745205      114794             -35            24.0   \n",
       "9130493     2745205      114794             -34            20.0   \n",
       "7778082     2745205      114794             -33            20.0   \n",
       "\n",
       "         CNT_INSTALMENT_FUTURE NAME_CONTRACT_STATUS  SK_DPD  SK_DPD_DEF  \n",
       "6762551                   24.0               Active       0           0  \n",
       "7173161                   23.0               Active       0           0  \n",
       "7634534                   22.0               Active       0           0  \n",
       "854403                    21.0               Active       0           0  \n",
       "4569897                   20.0               Active       0           0  \n",
       "4193965                   19.0               Active       0           0  \n",
       "4040062                   18.0               Active       0           0  \n",
       "3738685                   17.0               Active       0           0  \n",
       "3118585                   16.0               Active       0           0  \n",
       "1815866                   15.0               Active       0           0  \n",
       "425574                    14.0               Active       0           0  \n",
       "4617989                   13.0               Active       0           0  \n",
       "2037                      12.0               Active       0           0  \n",
       "1624750                   10.0               Active       0           0  \n",
       "9156771                    9.0               Active       0           0  \n",
       "5623621                    8.0               Active       0           0  \n",
       "2758694                    7.0               Active       0           0  \n",
       "6210801                    6.0               Active       0           0  \n",
       "8208591                    5.0               Active       0           0  \n",
       "9130493                    0.0               Active       0           0  \n",
       "7778082                    0.0            Completed       0           0  "
      ]
     },
     "execution_count": 11,
     "metadata": {},
     "output_type": "execute_result"
    }
   ],
   "source": [
    "pos[pos.SK_ID_PREV == pos.SK_ID_PREV.unique()[2000]].sort_values('MONTHS_BALANCE')"
   ]
  },
  {
   "cell_type": "markdown",
   "metadata": {},
   "source": [
    "そういうことに見える、マイナスの数字が大きい（値が小さい）ほど古い情報で基本的にNAME_CONTRACT_STATUS = Completedで終了している\n",
    "\n",
    "最小は-100"
   ]
  },
  {
   "cell_type": "code",
   "execution_count": 12,
   "metadata": {},
   "outputs": [
    {
     "name": "stderr",
     "output_type": "stream",
     "text": [
      "c:\\users\\km65673\\appdata\\local\\continuum\\anaconda3\\lib\\site-packages\\matplotlib\\axes\\_axes.py:6448: UserWarning: The 'normed' kwarg is deprecated, and has been replaced by the 'density' kwarg.\n",
      "  warnings.warn(\"The 'normed' kwarg is deprecated, and has been \"\n"
     ]
    },
    {
     "data": {
      "image/png": "[encoded data removed]",
      "text/plain": [
       "<Figure size 864x432 with 2 Axes>"
      ]
     },
     "metadata": {},
     "output_type": "display_data"
    }
   ],
   "source": [
    "pos_months_balance_min = pos.groupby('SK_ID_CURR').MONTHS_BALANCE.min().rename('POS_MONTHS_BALANCE_min').reset_index()\n",
    "pos_months_balance_min = pos_months_balance_min.merge(app_trn[['SK_ID_CURR', 'TARGET']],\n",
    "                                                                                           on='SK_ID_CURR', how='left')\n",
    "target_hist(pos_months_balance_min, 'POS_MONTHS_BALANCE_min', 'Distribution of MONTHS_BALANCE_min by TARGET')"
   ]
  },
  {
   "cell_type": "code",
   "execution_count": 13,
   "metadata": {
    "scrolled": false
   },
   "outputs": [
    {
     "name": "stderr",
     "output_type": "stream",
     "text": [
      "c:\\users\\km65673\\appdata\\local\\continuum\\anaconda3\\lib\\site-packages\\matplotlib\\axes\\_axes.py:6448: UserWarning: The 'normed' kwarg is deprecated, and has been replaced by the 'density' kwarg.\n",
      "  warnings.warn(\"The 'normed' kwarg is deprecated, and has been \"\n"
     ]
    },
    {
     "data": {
      "image/png": "[encoded data removed]",
      "text/plain": [
       "<Figure size 864x432 with 2 Axes>"
      ]
     },
     "metadata": {},
     "output_type": "display_data"
    }
   ],
   "source": [
    "pos_months_balance_max = pos.groupby('SK_ID_CURR').MONTHS_BALANCE.max().rename('POS_MONTHS_BALANCE_max').reset_index()\n",
    "pos_months_balance_max = pos_months_balance_max.merge(app_trn[['SK_ID_CURR', 'TARGET']],\n",
    "                                                                                            on='SK_ID_CURR', how='left')\n",
    "target_hist(pos_months_balance_max, 'POS_MONTHS_BALANCE_max', 'Distribution of MONTHS_BALANCE_max by TARGET')"
   ]
  },
  {
   "cell_type": "markdown",
   "metadata": {},
   "source": [
    "<a id=\"cnt-instalment\"></a>\n",
    "## CNT_INSTALMENT\n",
    "description : Term of previous credit (can change over time)\n",
    "\n",
    "分割払いの回数、途中で変わる？"
   ]
  },
  {
   "cell_type": "code",
   "execution_count": 14,
   "metadata": {},
   "outputs": [
    {
     "data": {
      "text/plain": [
       "10         12.0\n",
       "438434     12.0\n",
       "2384477    12.0\n",
       "2638362    12.0\n",
       "3171258    12.0\n",
       "3195709    12.0\n",
       "4570351    12.0\n",
       "4720002    12.0\n",
       "4792596    12.0\n",
       "4991328    12.0\n",
       "5046777    12.0\n",
       "5514072    12.0\n",
       "6344380    12.0\n",
       "Name: CNT_INSTALMENT, dtype: float64"
      ]
     },
     "execution_count": 14,
     "metadata": {},
     "output_type": "execute_result"
    }
   ],
   "source": [
    "pos[pos.SK_ID_PREV == pos.SK_ID_PREV.unique()[10]].CNT_INSTALMENT"
   ]
  },
  {
   "cell_type": "markdown",
   "metadata": {},
   "source": [
    "基本的に同一SK_ID_PREVでは全部同じなのかな"
   ]
  },
  {
   "cell_type": "code",
   "execution_count": 15,
   "metadata": {},
   "outputs": [
    {
     "data": {
      "text/plain": [
       "count    9.975287e+06\n",
       "mean     1.708965e+01\n",
       "std      1.199506e+01\n",
       "min      1.000000e+00\n",
       "25%      1.000000e+01\n",
       "50%      1.200000e+01\n",
       "75%      2.400000e+01\n",
       "max      9.200000e+01\n",
       "Name: CNT_INSTALMENT, dtype: float64"
      ]
     },
     "execution_count": 15,
     "metadata": {},
     "output_type": "execute_result"
    }
   ],
   "source": [
    "pos.CNT_INSTALMENT.describe()"
   ]
  },
  {
   "cell_type": "code",
   "execution_count": 16,
   "metadata": {},
   "outputs": [
    {
     "name": "stderr",
     "output_type": "stream",
     "text": [
      "c:\\users\\km65673\\appdata\\local\\continuum\\anaconda3\\lib\\site-packages\\matplotlib\\axes\\_axes.py:6448: UserWarning: The 'normed' kwarg is deprecated, and has been replaced by the 'density' kwarg.\n",
      "  warnings.warn(\"The 'normed' kwarg is deprecated, and has been \"\n"
     ]
    },
    {
     "data": {
      "image/png": "[encoded data removed]",
      "text/plain": [
       "<Figure size 864x432 with 2 Axes>"
      ]
     },
     "metadata": {},
     "output_type": "display_data"
    }
   ],
   "source": [
    "pos_cnt_instalment = pos[['SK_ID_CURR', 'CNT_INSTALMENT']].copy().merge(\n",
    "    app_trn[['SK_ID_CURR', 'TARGET']], on='SK_ID_CURR', how='left'\n",
    ")\n",
    "target_hist(pos_cnt_instalment, 'CNT_INSTALMENT', 'Distribution of CNT_INSTALMENT by TARGET')"
   ]
  },
  {
   "cell_type": "markdown",
   "metadata": {},
   "source": [
    "切りの良い6, 12, 18, 24, 30, 36ヶ月あたりでデータが増えているよね"
   ]
  },
  {
   "cell_type": "code",
   "execution_count": 17,
   "metadata": {},
   "outputs": [],
   "source": [
    "unique_instalment = pos.groupby(\"SK_ID_PREV\").CNT_INSTALMENT.nunique()"
   ]
  },
  {
   "cell_type": "code",
   "execution_count": 18,
   "metadata": {},
   "outputs": [
    {
     "data": {
      "text/plain": [
       "count    936325.000000\n",
       "mean          1.327098\n",
       "std           0.477809\n",
       "min           0.000000\n",
       "25%           1.000000\n",
       "50%           1.000000\n",
       "75%           2.000000\n",
       "max          12.000000\n",
       "Name: CNT_INSTALMENT, dtype: float64"
      ]
     },
     "execution_count": 18,
     "metadata": {},
     "output_type": "execute_result"
    }
   ],
   "source": [
    "unique_instalment.describe()"
   ]
  },
  {
   "cell_type": "markdown",
   "metadata": {},
   "source": [
    "支払回数は2回変更くらいまでが基本"
   ]
  },
  {
   "cell_type": "code",
   "execution_count": 19,
   "metadata": {
    "scrolled": false
   },
   "outputs": [
    {
     "name": "stderr",
     "output_type": "stream",
     "text": [
      "c:\\users\\km65673\\appdata\\local\\continuum\\anaconda3\\lib\\site-packages\\matplotlib\\axes\\_axes.py:6448: UserWarning: The 'normed' kwarg is deprecated, and has been replaced by the 'density' kwarg.\n",
      "  warnings.warn(\"The 'normed' kwarg is deprecated, and has been \"\n"
     ]
    },
    {
     "data": {
      "image/png": "[encoded data removed]",
      "text/plain": [
       "<Figure size 864x432 with 2 Axes>"
      ]
     },
     "metadata": {},
     "output_type": "display_data"
    }
   ],
   "source": [
    "pos_avg_instalment = pos.groupby('SK_ID_PREV').agg({'SK_ID_CURR': 'first', 'CNT_INSTALMENT': 'mean'})\n",
    "pos_avg_instalment = pos_avg_instalment.groupby('SK_ID_CURR').CNT_INSTALMENT.mean().rename('POS_AVG_CNT_INSTALMENT').reset_index()\n",
    "pos_avg_instalment = pos_avg_instalment.merge(app_trn[['SK_ID_CURR', 'TARGET']],\n",
    "                                                                          on='SK_ID_CURR',\n",
    "                                                                          how='left')\n",
    "\n",
    "target_hist(pos_avg_instalment, 'POS_AVG_CNT_INSTALMENT', 'Distribution of POS_AVG_CNT_INSTALMENT by TARGET')"
   ]
  },
  {
   "cell_type": "markdown",
   "metadata": {},
   "source": [
    "<div style=\"text-align: right;\">\n",
    "[back to top](#top)\n",
    "</div>"
   ]
  },
  {
   "cell_type": "markdown",
   "metadata": {},
   "source": [
    "<a id=\"cnt-instalment-future\"></a>\n",
    "## CNT_INSTALMENT_FUTURE\n",
    "description : Installments left to pay on the previous credit\n",
    "\n",
    "残りの支払い回数、これは時系列で見ないとあまり意味がないな、※一旦保留\n",
    "\n",
    "見たら面白そうなやつ\n",
    "- 支払いに失敗していないか？\n",
    "- MONTHS_BALANCEとの関係\n",
    "- CNT_INSTAKMENTが変更されたときのCNT_INSTALMENT_FUTUREの動き"
   ]
  },
  {
   "cell_type": "code",
   "execution_count": 20,
   "metadata": {},
   "outputs": [
    {
     "data": {
      "text/html": [
       "<div>\n",
       "<style scoped>\n",
       "    .dataframe tbody tr th:only-of-type {\n",
       "        vertical-align: middle;\n",
       "    }\n",
       "\n",
       "    .dataframe tbody tr th {\n",
       "        vertical-align: top;\n",
       "    }\n",
       "\n",
       "    .dataframe thead th {\n",
       "        text-align: right;\n",
       "    }\n",
       "</style>\n",
       "<table border=\"1\" class=\"dataframe\">\n",
       "  <thead>\n",
       "    <tr style=\"text-align: right;\">\n",
       "      <th></th>\n",
       "      <th>MONTHS_BALANCE</th>\n",
       "      <th>CNT_INSTALMENT</th>\n",
       "      <th>CNT_INSTALMENT_FUTURE</th>\n",
       "    </tr>\n",
       "  </thead>\n",
       "  <tbody>\n",
       "    <tr>\n",
       "      <th>10</th>\n",
       "      <td>-32</td>\n",
       "      <td>12.0</td>\n",
       "      <td>12.0</td>\n",
       "    </tr>\n",
       "    <tr>\n",
       "      <th>4720002</th>\n",
       "      <td>-31</td>\n",
       "      <td>12.0</td>\n",
       "      <td>11.0</td>\n",
       "    </tr>\n",
       "    <tr>\n",
       "      <th>4792596</th>\n",
       "      <td>-30</td>\n",
       "      <td>12.0</td>\n",
       "      <td>10.0</td>\n",
       "    </tr>\n",
       "    <tr>\n",
       "      <th>5514072</th>\n",
       "      <td>-29</td>\n",
       "      <td>12.0</td>\n",
       "      <td>9.0</td>\n",
       "    </tr>\n",
       "    <tr>\n",
       "      <th>6344380</th>\n",
       "      <td>-28</td>\n",
       "      <td>12.0</td>\n",
       "      <td>8.0</td>\n",
       "    </tr>\n",
       "    <tr>\n",
       "      <th>4991328</th>\n",
       "      <td>-27</td>\n",
       "      <td>12.0</td>\n",
       "      <td>7.0</td>\n",
       "    </tr>\n",
       "    <tr>\n",
       "      <th>3171258</th>\n",
       "      <td>-26</td>\n",
       "      <td>12.0</td>\n",
       "      <td>6.0</td>\n",
       "    </tr>\n",
       "    <tr>\n",
       "      <th>4570351</th>\n",
       "      <td>-25</td>\n",
       "      <td>12.0</td>\n",
       "      <td>5.0</td>\n",
       "    </tr>\n",
       "    <tr>\n",
       "      <th>3195709</th>\n",
       "      <td>-24</td>\n",
       "      <td>12.0</td>\n",
       "      <td>4.0</td>\n",
       "    </tr>\n",
       "    <tr>\n",
       "      <th>2638362</th>\n",
       "      <td>-23</td>\n",
       "      <td>12.0</td>\n",
       "      <td>3.0</td>\n",
       "    </tr>\n",
       "    <tr>\n",
       "      <th>2384477</th>\n",
       "      <td>-22</td>\n",
       "      <td>12.0</td>\n",
       "      <td>2.0</td>\n",
       "    </tr>\n",
       "    <tr>\n",
       "      <th>5046777</th>\n",
       "      <td>-21</td>\n",
       "      <td>12.0</td>\n",
       "      <td>1.0</td>\n",
       "    </tr>\n",
       "    <tr>\n",
       "      <th>438434</th>\n",
       "      <td>-20</td>\n",
       "      <td>12.0</td>\n",
       "      <td>0.0</td>\n",
       "    </tr>\n",
       "  </tbody>\n",
       "</table>\n",
       "</div>"
      ],
      "text/plain": [
       "         MONTHS_BALANCE  CNT_INSTALMENT  CNT_INSTALMENT_FUTURE\n",
       "10                  -32            12.0                   12.0\n",
       "4720002             -31            12.0                   11.0\n",
       "4792596             -30            12.0                   10.0\n",
       "5514072             -29            12.0                    9.0\n",
       "6344380             -28            12.0                    8.0\n",
       "4991328             -27            12.0                    7.0\n",
       "3171258             -26            12.0                    6.0\n",
       "4570351             -25            12.0                    5.0\n",
       "3195709             -24            12.0                    4.0\n",
       "2638362             -23            12.0                    3.0\n",
       "2384477             -22            12.0                    2.0\n",
       "5046777             -21            12.0                    1.0\n",
       "438434              -20            12.0                    0.0"
      ]
     },
     "execution_count": 20,
     "metadata": {},
     "output_type": "execute_result"
    }
   ],
   "source": [
    "pos[pos.SK_ID_PREV == pos.SK_ID_PREV.unique()[10]][['MONTHS_BALANCE', 'CNT_INSTALMENT', 'CNT_INSTALMENT_FUTURE']].sort_values('MONTHS_BALANCE')"
   ]
  },
  {
   "cell_type": "code",
   "execution_count": 21,
   "metadata": {},
   "outputs": [
    {
     "data": {
      "text/html": [
       "<div>\n",
       "<style scoped>\n",
       "    .dataframe tbody tr th:only-of-type {\n",
       "        vertical-align: middle;\n",
       "    }\n",
       "\n",
       "    .dataframe tbody tr th {\n",
       "        vertical-align: top;\n",
       "    }\n",
       "\n",
       "    .dataframe thead th {\n",
       "        text-align: right;\n",
       "    }\n",
       "</style>\n",
       "<table border=\"1\" class=\"dataframe\">\n",
       "  <thead>\n",
       "    <tr style=\"text-align: right;\">\n",
       "      <th></th>\n",
       "      <th>MONTHS_BALANCE</th>\n",
       "      <th>CNT_INSTALMENT</th>\n",
       "      <th>CNT_INSTALMENT_FUTURE</th>\n",
       "    </tr>\n",
       "  </thead>\n",
       "  <tbody>\n",
       "    <tr>\n",
       "      <th>3526318</th>\n",
       "      <td>-39</td>\n",
       "      <td>36.0</td>\n",
       "      <td>36.0</td>\n",
       "    </tr>\n",
       "    <tr>\n",
       "      <th>7994080</th>\n",
       "      <td>-38</td>\n",
       "      <td>36.0</td>\n",
       "      <td>35.0</td>\n",
       "    </tr>\n",
       "    <tr>\n",
       "      <th>5365461</th>\n",
       "      <td>-37</td>\n",
       "      <td>36.0</td>\n",
       "      <td>34.0</td>\n",
       "    </tr>\n",
       "    <tr>\n",
       "      <th>4376241</th>\n",
       "      <td>-36</td>\n",
       "      <td>36.0</td>\n",
       "      <td>33.0</td>\n",
       "    </tr>\n",
       "    <tr>\n",
       "      <th>8474217</th>\n",
       "      <td>-35</td>\n",
       "      <td>36.0</td>\n",
       "      <td>32.0</td>\n",
       "    </tr>\n",
       "    <tr>\n",
       "      <th>4375524</th>\n",
       "      <td>-34</td>\n",
       "      <td>36.0</td>\n",
       "      <td>31.0</td>\n",
       "    </tr>\n",
       "    <tr>\n",
       "      <th>4863478</th>\n",
       "      <td>-33</td>\n",
       "      <td>36.0</td>\n",
       "      <td>30.0</td>\n",
       "    </tr>\n",
       "    <tr>\n",
       "      <th>1827808</th>\n",
       "      <td>-32</td>\n",
       "      <td>36.0</td>\n",
       "      <td>29.0</td>\n",
       "    </tr>\n",
       "    <tr>\n",
       "      <th>3610375</th>\n",
       "      <td>-31</td>\n",
       "      <td>36.0</td>\n",
       "      <td>28.0</td>\n",
       "    </tr>\n",
       "    <tr>\n",
       "      <th>2380208</th>\n",
       "      <td>-30</td>\n",
       "      <td>36.0</td>\n",
       "      <td>26.0</td>\n",
       "    </tr>\n",
       "    <tr>\n",
       "      <th>1656460</th>\n",
       "      <td>-29</td>\n",
       "      <td>36.0</td>\n",
       "      <td>25.0</td>\n",
       "    </tr>\n",
       "    <tr>\n",
       "      <th>4537015</th>\n",
       "      <td>-28</td>\n",
       "      <td>36.0</td>\n",
       "      <td>24.0</td>\n",
       "    </tr>\n",
       "    <tr>\n",
       "      <th>3108507</th>\n",
       "      <td>-27</td>\n",
       "      <td>36.0</td>\n",
       "      <td>23.0</td>\n",
       "    </tr>\n",
       "    <tr>\n",
       "      <th>4404167</th>\n",
       "      <td>-26</td>\n",
       "      <td>36.0</td>\n",
       "      <td>22.0</td>\n",
       "    </tr>\n",
       "    <tr>\n",
       "      <th>1652306</th>\n",
       "      <td>-25</td>\n",
       "      <td>36.0</td>\n",
       "      <td>21.0</td>\n",
       "    </tr>\n",
       "    <tr>\n",
       "      <th>2416714</th>\n",
       "      <td>-24</td>\n",
       "      <td>36.0</td>\n",
       "      <td>20.0</td>\n",
       "    </tr>\n",
       "    <tr>\n",
       "      <th>4295619</th>\n",
       "      <td>-23</td>\n",
       "      <td>36.0</td>\n",
       "      <td>19.0</td>\n",
       "    </tr>\n",
       "    <tr>\n",
       "      <th>9108246</th>\n",
       "      <td>-22</td>\n",
       "      <td>36.0</td>\n",
       "      <td>18.0</td>\n",
       "    </tr>\n",
       "    <tr>\n",
       "      <th>2052686</th>\n",
       "      <td>-21</td>\n",
       "      <td>36.0</td>\n",
       "      <td>17.0</td>\n",
       "    </tr>\n",
       "    <tr>\n",
       "      <th>3514511</th>\n",
       "      <td>-20</td>\n",
       "      <td>36.0</td>\n",
       "      <td>16.0</td>\n",
       "    </tr>\n",
       "    <tr>\n",
       "      <th>1389073</th>\n",
       "      <td>-19</td>\n",
       "      <td>36.0</td>\n",
       "      <td>15.0</td>\n",
       "    </tr>\n",
       "    <tr>\n",
       "      <th>237332</th>\n",
       "      <td>-18</td>\n",
       "      <td>36.0</td>\n",
       "      <td>14.0</td>\n",
       "    </tr>\n",
       "    <tr>\n",
       "      <th>2279525</th>\n",
       "      <td>-17</td>\n",
       "      <td>36.0</td>\n",
       "      <td>13.0</td>\n",
       "    </tr>\n",
       "    <tr>\n",
       "      <th>401669</th>\n",
       "      <td>-16</td>\n",
       "      <td>36.0</td>\n",
       "      <td>12.0</td>\n",
       "    </tr>\n",
       "    <tr>\n",
       "      <th>594408</th>\n",
       "      <td>-15</td>\n",
       "      <td>36.0</td>\n",
       "      <td>11.0</td>\n",
       "    </tr>\n",
       "    <tr>\n",
       "      <th>4368972</th>\n",
       "      <td>-14</td>\n",
       "      <td>36.0</td>\n",
       "      <td>10.0</td>\n",
       "    </tr>\n",
       "    <tr>\n",
       "      <th>1835839</th>\n",
       "      <td>-13</td>\n",
       "      <td>36.0</td>\n",
       "      <td>9.0</td>\n",
       "    </tr>\n",
       "    <tr>\n",
       "      <th>1759378</th>\n",
       "      <td>-12</td>\n",
       "      <td>36.0</td>\n",
       "      <td>8.0</td>\n",
       "    </tr>\n",
       "    <tr>\n",
       "      <th>2013172</th>\n",
       "      <td>-11</td>\n",
       "      <td>36.0</td>\n",
       "      <td>7.0</td>\n",
       "    </tr>\n",
       "    <tr>\n",
       "      <th>718356</th>\n",
       "      <td>-10</td>\n",
       "      <td>36.0</td>\n",
       "      <td>6.0</td>\n",
       "    </tr>\n",
       "    <tr>\n",
       "      <th>3090979</th>\n",
       "      <td>-9</td>\n",
       "      <td>36.0</td>\n",
       "      <td>5.0</td>\n",
       "    </tr>\n",
       "    <tr>\n",
       "      <th>3913451</th>\n",
       "      <td>-8</td>\n",
       "      <td>36.0</td>\n",
       "      <td>4.0</td>\n",
       "    </tr>\n",
       "    <tr>\n",
       "      <th>4223420</th>\n",
       "      <td>-7</td>\n",
       "      <td>36.0</td>\n",
       "      <td>3.0</td>\n",
       "    </tr>\n",
       "    <tr>\n",
       "      <th>8176490</th>\n",
       "      <td>-6</td>\n",
       "      <td>36.0</td>\n",
       "      <td>2.0</td>\n",
       "    </tr>\n",
       "    <tr>\n",
       "      <th>20937</th>\n",
       "      <td>-5</td>\n",
       "      <td>36.0</td>\n",
       "      <td>1.0</td>\n",
       "    </tr>\n",
       "    <tr>\n",
       "      <th>2362986</th>\n",
       "      <td>-4</td>\n",
       "      <td>36.0</td>\n",
       "      <td>0.0</td>\n",
       "    </tr>\n",
       "  </tbody>\n",
       "</table>\n",
       "</div>"
      ],
      "text/plain": [
       "         MONTHS_BALANCE  CNT_INSTALMENT  CNT_INSTALMENT_FUTURE\n",
       "3526318             -39            36.0                   36.0\n",
       "7994080             -38            36.0                   35.0\n",
       "5365461             -37            36.0                   34.0\n",
       "4376241             -36            36.0                   33.0\n",
       "8474217             -35            36.0                   32.0\n",
       "4375524             -34            36.0                   31.0\n",
       "4863478             -33            36.0                   30.0\n",
       "1827808             -32            36.0                   29.0\n",
       "3610375             -31            36.0                   28.0\n",
       "2380208             -30            36.0                   26.0\n",
       "1656460             -29            36.0                   25.0\n",
       "4537015             -28            36.0                   24.0\n",
       "3108507             -27            36.0                   23.0\n",
       "4404167             -26            36.0                   22.0\n",
       "1652306             -25            36.0                   21.0\n",
       "2416714             -24            36.0                   20.0\n",
       "4295619             -23            36.0                   19.0\n",
       "9108246             -22            36.0                   18.0\n",
       "2052686             -21            36.0                   17.0\n",
       "3514511             -20            36.0                   16.0\n",
       "1389073             -19            36.0                   15.0\n",
       "237332              -18            36.0                   14.0\n",
       "2279525             -17            36.0                   13.0\n",
       "401669              -16            36.0                   12.0\n",
       "594408              -15            36.0                   11.0\n",
       "4368972             -14            36.0                   10.0\n",
       "1835839             -13            36.0                    9.0\n",
       "1759378             -12            36.0                    8.0\n",
       "2013172             -11            36.0                    7.0\n",
       "718356              -10            36.0                    6.0\n",
       "3090979              -9            36.0                    5.0\n",
       "3913451              -8            36.0                    4.0\n",
       "4223420              -7            36.0                    3.0\n",
       "8176490              -6            36.0                    2.0\n",
       "20937                -5            36.0                    1.0\n",
       "2362986              -4            36.0                    0.0"
      ]
     },
     "execution_count": 21,
     "metadata": {},
     "output_type": "execute_result"
    }
   ],
   "source": [
    "pos[pos.SK_ID_PREV == pos.SK_ID_PREV.unique()[20000]][['MONTHS_BALANCE', 'CNT_INSTALMENT', 'CNT_INSTALMENT_FUTURE']].sort_values('MONTHS_BALANCE')"
   ]
  },
  {
   "cell_type": "markdown",
   "metadata": {},
   "source": [
    "<div style=\"text-align: right;\">\n",
    "[back to top](#top)\n",
    "</div>"
   ]
  },
  {
   "cell_type": "markdown",
   "metadata": {},
   "source": [
    "<a id=\"name-contract-status\"></a>\n",
    "\n",
    "## NAME_CONTRACT_STATUS"
   ]
  },
  {
   "cell_type": "code",
   "execution_count": 22,
   "metadata": {},
   "outputs": [
    {
     "data": {
      "text/plain": [
       "array(['Active', 'Completed', 'Signed', 'Approved',\n",
       "       'Returned to the store', 'Demand', 'Canceled', 'XNA',\n",
       "       'Amortized debt'], dtype=object)"
      ]
     },
     "execution_count": 22,
     "metadata": {},
     "output_type": "execute_result"
    }
   ],
   "source": [
    "pos.NAME_CONTRACT_STATUS.unique()"
   ]
  },
  {
   "cell_type": "code",
   "execution_count": 23,
   "metadata": {},
   "outputs": [],
   "source": [
    "# pos_name_contract_status = pos.sort_values(['SK_ID_PREV', 'MONTHS_BALANCE']).groupby('SK_ID_PREV').agg({'SK_ID_CURR': 'first', 'NAME_CONTRACT_STATUS': 'unique'})"
   ]
  },
  {
   "cell_type": "code",
   "execution_count": 24,
   "metadata": {},
   "outputs": [],
   "source": [
    "# pos_name_contract_status = pos_name_contract_status.merge(app_trn[['SK_ID_CURR', 'TARGET']], on='SK_ID_CURR', how='left')\n",
    "# target_bar(pos_name_contract_status, 'NAME_CONTRACT_STATUS', 'Value counts of NAME_CONTRACT_STATUS by Target')"
   ]
  },
  {
   "cell_type": "markdown",
   "metadata": {},
   "source": [
    "<div style=\"text-align: right;\">\n",
    "[back to top](#top)\n",
    "</div>"
   ]
  },
  {
   "cell_type": "markdown",
   "metadata": {},
   "source": [
    "<a id=\"sk-dpd\"></a>\n",
    "## SK_DPD\n",
    "DPD = 支払い期日\n",
    "\n",
    "description : DPD (days past due) during the month of previous credit\n",
    "\n",
    "ちょっとよくわからないからそのうち戻ってくる"
   ]
  },
  {
   "cell_type": "code",
   "execution_count": 30,
   "metadata": {
    "scrolled": false
   },
   "outputs": [
    {
     "data": {
      "text/plain": [
       "<matplotlib.axes._subplots.AxesSubplot at 0x1bfc6882908>"
      ]
     },
     "execution_count": 30,
     "metadata": {},
     "output_type": "execute_result"
    },
    {
     "data": {
      "image/png": "[encoded data removed]",
      "text/plain": [
       "<Figure size 864x432 with 1 Axes>"
      ]
     },
     "metadata": {},
     "output_type": "display_data"
    }
   ],
   "source": [
    "pos[pos.SK_DPD > 0].SK_DPD.hist(bins=100, figsize=(12,6))"
   ]
  },
  {
   "cell_type": "code",
   "execution_count": 37,
   "metadata": {
    "scrolled": false
   },
   "outputs": [
    {
     "data": {
      "text/html": [
       "<div>\n",
       "<style scoped>\n",
       "    .dataframe tbody tr th:only-of-type {\n",
       "        vertical-align: middle;\n",
       "    }\n",
       "\n",
       "    .dataframe tbody tr th {\n",
       "        vertical-align: top;\n",
       "    }\n",
       "\n",
       "    .dataframe thead th {\n",
       "        text-align: right;\n",
       "    }\n",
       "</style>\n",
       "<table border=\"1\" class=\"dataframe\">\n",
       "  <thead>\n",
       "    <tr style=\"text-align: right;\">\n",
       "      <th></th>\n",
       "      <th>SK_ID_PREV</th>\n",
       "      <th>SK_ID_CURR</th>\n",
       "      <th>MONTHS_BALANCE</th>\n",
       "      <th>CNT_INSTALMENT</th>\n",
       "      <th>CNT_INSTALMENT_FUTURE</th>\n",
       "      <th>NAME_CONTRACT_STATUS</th>\n",
       "      <th>SK_DPD</th>\n",
       "      <th>SK_DPD_DEF</th>\n",
       "    </tr>\n",
       "  </thead>\n",
       "  <tbody>\n",
       "    <tr>\n",
       "      <th>6030662</th>\n",
       "      <td>1000001</td>\n",
       "      <td>158271</td>\n",
       "      <td>-10</td>\n",
       "      <td>12.0</td>\n",
       "      <td>12.0</td>\n",
       "      <td>Active</td>\n",
       "      <td>0</td>\n",
       "      <td>0</td>\n",
       "    </tr>\n",
       "    <tr>\n",
       "      <th>8470736</th>\n",
       "      <td>1000001</td>\n",
       "      <td>158271</td>\n",
       "      <td>-9</td>\n",
       "      <td>12.0</td>\n",
       "      <td>11.0</td>\n",
       "      <td>Active</td>\n",
       "      <td>0</td>\n",
       "      <td>0</td>\n",
       "    </tr>\n",
       "    <tr>\n",
       "      <th>45995</th>\n",
       "      <td>1000001</td>\n",
       "      <td>158271</td>\n",
       "      <td>-8</td>\n",
       "      <td>2.0</td>\n",
       "      <td>0.0</td>\n",
       "      <td>Completed</td>\n",
       "      <td>0</td>\n",
       "      <td>0</td>\n",
       "    </tr>\n",
       "    <tr>\n",
       "      <th>4467804</th>\n",
       "      <td>1000002</td>\n",
       "      <td>101962</td>\n",
       "      <td>-54</td>\n",
       "      <td>4.0</td>\n",
       "      <td>4.0</td>\n",
       "      <td>Active</td>\n",
       "      <td>0</td>\n",
       "      <td>0</td>\n",
       "    </tr>\n",
       "    <tr>\n",
       "      <th>3346102</th>\n",
       "      <td>1000002</td>\n",
       "      <td>101962</td>\n",
       "      <td>-53</td>\n",
       "      <td>6.0</td>\n",
       "      <td>3.0</td>\n",
       "      <td>Active</td>\n",
       "      <td>0</td>\n",
       "      <td>0</td>\n",
       "    </tr>\n",
       "  </tbody>\n",
       "</table>\n",
       "</div>"
      ],
      "text/plain": [
       "         SK_ID_PREV  SK_ID_CURR  MONTHS_BALANCE  CNT_INSTALMENT  \\\n",
       "6030662     1000001      158271             -10            12.0   \n",
       "8470736     1000001      158271              -9            12.0   \n",
       "45995       1000001      158271              -8             2.0   \n",
       "4467804     1000002      101962             -54             4.0   \n",
       "3346102     1000002      101962             -53             6.0   \n",
       "\n",
       "         CNT_INSTALMENT_FUTURE NAME_CONTRACT_STATUS  SK_DPD  SK_DPD_DEF  \n",
       "6030662                   12.0               Active       0           0  \n",
       "8470736                   11.0               Active       0           0  \n",
       "45995                      0.0            Completed       0           0  \n",
       "4467804                    4.0               Active       0           0  \n",
       "3346102                    3.0               Active       0           0  "
      ]
     },
     "execution_count": 37,
     "metadata": {},
     "output_type": "execute_result"
    }
   ],
   "source": [
    "        i\n",
    "pos.sort_values(['SK_ID_PREV', 'MONTHS_BALANCE']).head()"
   ]
  },
  {
   "cell_type": "markdown",
   "metadata": {},
   "source": [
    "<div style=\"text-align: right;\">\n",
    "[back to top](#top)\n",
    "</div>"
   ]
  },
  {
   "cell_type": "markdown",
   "metadata": {},
   "source": [
    "<a id=\"sk-dpd-def\"></a>\n",
    "## SK_DPD_DEF\n",
    "DPD = 支払い期日\n",
    "\n",
    "description : DPD (Days past due) during the month with tolerance (debts with low loan amounts are ignored) of the previous credit\n",
    "\n",
    "ちょっとよくわからないからそのうち戻ってくる2\n"
   ]
  },
  {
   "cell_type": "code",
   "execution_count": null,
   "metadata": {},
   "outputs": [],
   "source": []
  }
 ],
 "metadata": {
  "anaconda-cloud": {},
  "kernelspec": {
   "display_name": "Python 3",
   "language": "python",
   "name": "python3"
  },
  "language_info": {
   "codemirror_mode": {
    "name": "ipython",
    "version": 3
   },
   "file_extension": ".py",
   "mimetype": "text/x-python",
   "name": "python",
   "nbconvert_exporter": "python",
   "pygments_lexer": "ipython3",
   "version": "3.5.4"
  }
 },
 "nbformat": 4,
 "nbformat_minor": 2
}

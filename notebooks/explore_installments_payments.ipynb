{
 "cells": [
  {
   "cell_type": "markdown",
   "metadata": {},
   "source": [
    "<b>installments_payments.csv</b>\n",
    "\n",
    "- Repayment history for the previously disbursed credits in Home Credit related to the loans in our sample.\n",
    "- There is a) one row for every payment that was made plus b) one row each for missed payment.\n",
    "- One row is equivalent to one payment of one installment OR one installment corresponding to one payment of one previous Home Credit credit related to loans in our sample.\n",
    "\n",
    "<a id=\"top\"></a>\n",
    "- [Overview](#overview)\n",
    "- [SK_ID_PREV](#sk-id-prev)\n",
    "- [SK_ID_CURR](#sk-id-curr)\n",
    "- [SK_ID_CURR & SK_ID_PREV](#sk-id-curr-sk-id-prev)\n",
    "- [NUM_INSTALMENT_VERSION](#num-instalment-version)\n",
    "- [NUM_INSTALMENT_NUMBER](#num-instalment-number)\n",
    "- [DAYS_INSTALMENT](#days-instalment)\n",
    "- [DAYS_ENTRY_PAYMENT](#days-entry-payment)\n",
    "- [AMT_INSTALMENT](#amt-instalment)\n",
    "- [AMT_PAYMENT](#amt-payment)"
   ]
  },
  {
   "cell_type": "markdown",
   "metadata": {},
   "source": [
    "## Prepare"
   ]
  },
  {
   "cell_type": "code",
   "execution_count": 13,
   "metadata": {},
   "outputs": [],
   "source": [
    "import feather\n",
    "import numpy as np\n",
    "import pandas as pd\n",
    "import matplotlib.pyplot as plt\n",
    "import seaborn as sns\n",
    "pd.options.display.max_rows = 999\n",
    "\n",
    "inp = feather.read_dataframe('../data/input/installments_payments.feather')\n",
    "prv = feather.read_dataframe('../data/input/previous_application.feather')\n",
    "app_trn = pd.read_feather('../data/input/application_train.feather')\n",
    "\n",
    "def target_bar(df, col, title=None):\n",
    "\n",
    "    df0 = df[df[\"TARGET\"] == 0]\n",
    "    df1 = df[df[\"TARGET\"] == 1]\n",
    "\n",
    "    t0 = df0[col].value_counts().rename(col + '0')\n",
    "    t1 = df1[col].value_counts().rename(col + '1')\n",
    "    t = pd.concat([t0, t1], axis=1).fillna(0).astype(int)\n",
    "    t['total'] = t.sum(axis=1)\n",
    "    t.sort_values('total', inplace=True, ascending=False)\n",
    "    t.drop(columns=['total'], inplace=True)\n",
    "\n",
    "    idx = np.arange(len(t))\n",
    "    width = 0.35\n",
    "\n",
    "    fig, ax = plt.subplots(figsize=(12, 6))\n",
    "\n",
    "    p1 = ax.bar(idx, t[col + '0'], width)\n",
    "    p2 = ax.bar(idx+width, t[col + '1'], width)\n",
    "    ax.legend((p1[0], p2[0]), ('Target=0', 'Target=1'))\n",
    "    ax.set_title(title)\n",
    "    ax.set_xticks(idx + width / 2)\n",
    "    ax.set_xticklabels(t.index.values, rotation=45)\n",
    "\n",
    "    plt.show()\n",
    "    \n",
    "def target_hist(df, col, title):\n",
    "\n",
    "    df0 = df[df[\"TARGET\"] == 0]\n",
    "    df1 = df[df[\"TARGET\"] == 1]\n",
    "\n",
    "    fig, axes = plt.subplots(1, 2, figsize=(12, 6))\n",
    "    sns.distplot(df0[col].dropna(), ax=axes[0], color='b')\n",
    "    axes[0].set_title('Target=0')\n",
    "    sns.distplot(df1[col].dropna(), ax=axes[1], color='orange')\n",
    "    axes[1].set_title('Target=1')\n",
    "    fig.suptitle(title)\n",
    "    plt.show()"
   ]
  },
  {
   "cell_type": "markdown",
   "metadata": {},
   "source": [
    "<a id='overview'></a>\n",
    "## Overview"
   ]
  },
  {
   "cell_type": "code",
   "execution_count": 2,
   "metadata": {},
   "outputs": [
    {
     "name": "stdout",
     "output_type": "stream",
     "text": [
      "<class 'pandas.core.frame.DataFrame'>\n",
      "RangeIndex: 13605401 entries, 0 to 13605400\n",
      "Data columns (total 8 columns):\n",
      "SK_ID_PREV                int64\n",
      "SK_ID_CURR                int64\n",
      "NUM_INSTALMENT_VERSION    float64\n",
      "NUM_INSTALMENT_NUMBER     int64\n",
      "DAYS_INSTALMENT           float64\n",
      "DAYS_ENTRY_PAYMENT        float64\n",
      "AMT_INSTALMENT            float64\n",
      "AMT_PAYMENT               float64\n",
      "dtypes: float64(5), int64(3)\n",
      "memory usage: 830.4 MB\n"
     ]
    }
   ],
   "source": [
    "inp.info()"
   ]
  },
  {
   "cell_type": "code",
   "execution_count": 3,
   "metadata": {
    "scrolled": true
   },
   "outputs": [
    {
     "data": {
      "text/html": [
       "<div>\n",
       "<style scoped>\n",
       "    .dataframe tbody tr th:only-of-type {\n",
       "        vertical-align: middle;\n",
       "    }\n",
       "\n",
       "    .dataframe tbody tr th {\n",
       "        vertical-align: top;\n",
       "    }\n",
       "\n",
       "    .dataframe thead th {\n",
       "        text-align: right;\n",
       "    }\n",
       "</style>\n",
       "<table border=\"1\" class=\"dataframe\">\n",
       "  <thead>\n",
       "    <tr style=\"text-align: right;\">\n",
       "      <th></th>\n",
       "      <th>SK_ID_PREV</th>\n",
       "      <th>SK_ID_CURR</th>\n",
       "      <th>NUM_INSTALMENT_VERSION</th>\n",
       "      <th>NUM_INSTALMENT_NUMBER</th>\n",
       "      <th>DAYS_INSTALMENT</th>\n",
       "      <th>DAYS_ENTRY_PAYMENT</th>\n",
       "      <th>AMT_INSTALMENT</th>\n",
       "      <th>AMT_PAYMENT</th>\n",
       "    </tr>\n",
       "  </thead>\n",
       "  <tbody>\n",
       "    <tr>\n",
       "      <th>0</th>\n",
       "      <td>1054186</td>\n",
       "      <td>161674</td>\n",
       "      <td>1.0</td>\n",
       "      <td>6</td>\n",
       "      <td>-1180.0</td>\n",
       "      <td>-1187.0</td>\n",
       "      <td>6948.360</td>\n",
       "      <td>6948.360</td>\n",
       "    </tr>\n",
       "    <tr>\n",
       "      <th>1</th>\n",
       "      <td>1330831</td>\n",
       "      <td>151639</td>\n",
       "      <td>0.0</td>\n",
       "      <td>34</td>\n",
       "      <td>-2156.0</td>\n",
       "      <td>-2156.0</td>\n",
       "      <td>1716.525</td>\n",
       "      <td>1716.525</td>\n",
       "    </tr>\n",
       "    <tr>\n",
       "      <th>2</th>\n",
       "      <td>2085231</td>\n",
       "      <td>193053</td>\n",
       "      <td>2.0</td>\n",
       "      <td>1</td>\n",
       "      <td>-63.0</td>\n",
       "      <td>-63.0</td>\n",
       "      <td>25425.000</td>\n",
       "      <td>25425.000</td>\n",
       "    </tr>\n",
       "    <tr>\n",
       "      <th>3</th>\n",
       "      <td>2452527</td>\n",
       "      <td>199697</td>\n",
       "      <td>1.0</td>\n",
       "      <td>3</td>\n",
       "      <td>-2418.0</td>\n",
       "      <td>-2426.0</td>\n",
       "      <td>24350.130</td>\n",
       "      <td>24350.130</td>\n",
       "    </tr>\n",
       "    <tr>\n",
       "      <th>4</th>\n",
       "      <td>2714724</td>\n",
       "      <td>167756</td>\n",
       "      <td>1.0</td>\n",
       "      <td>2</td>\n",
       "      <td>-1383.0</td>\n",
       "      <td>-1366.0</td>\n",
       "      <td>2165.040</td>\n",
       "      <td>2160.585</td>\n",
       "    </tr>\n",
       "  </tbody>\n",
       "</table>\n",
       "</div>"
      ],
      "text/plain": [
       "   SK_ID_PREV  SK_ID_CURR  NUM_INSTALMENT_VERSION  NUM_INSTALMENT_NUMBER  \\\n",
       "0     1054186      161674                     1.0                      6   \n",
       "1     1330831      151639                     0.0                     34   \n",
       "2     2085231      193053                     2.0                      1   \n",
       "3     2452527      199697                     1.0                      3   \n",
       "4     2714724      167756                     1.0                      2   \n",
       "\n",
       "   DAYS_INSTALMENT  DAYS_ENTRY_PAYMENT  AMT_INSTALMENT  AMT_PAYMENT  \n",
       "0          -1180.0             -1187.0        6948.360     6948.360  \n",
       "1          -2156.0             -2156.0        1716.525     1716.525  \n",
       "2            -63.0               -63.0       25425.000    25425.000  \n",
       "3          -2418.0             -2426.0       24350.130    24350.130  \n",
       "4          -1383.0             -1366.0        2165.040     2160.585  "
      ]
     },
     "execution_count": 3,
     "metadata": {},
     "output_type": "execute_result"
    }
   ],
   "source": [
    "inp.head()"
   ]
  },
  {
   "cell_type": "markdown",
   "metadata": {},
   "source": [
    "<div style=\"text-align: right;\">\n",
    "[back to top](#top)\n",
    "</div>"
   ]
  },
  {
   "cell_type": "markdown",
   "metadata": {},
   "source": [
    "<a id='sk-id-prev'></a>\n",
    "## SK_ID_PREV"
   ]
  },
  {
   "cell_type": "code",
   "execution_count": 4,
   "metadata": {
    "scrolled": true
   },
   "outputs": [
    {
     "data": {
      "text/plain": [
       "<matplotlib.axes._subplots.AxesSubplot at 0x7ffb8aca89e8>"
      ]
     },
     "execution_count": 4,
     "metadata": {},
     "output_type": "execute_result"
    },
    {
     "data": {
      "image/png": "[encoded data removed]",
      "text/plain": [
       "<Figure size 432x288 with 1 Axes>"
      ]
     },
     "metadata": {},
     "output_type": "display_data"
    }
   ],
   "source": [
    "inp.groupby('SK_ID_PREV').size().hist(bins=50)"
   ]
  },
  {
   "cell_type": "markdown",
   "metadata": {},
   "source": [
    "<div style=\"text-align: right;\">\n",
    "[back to top](#top)\n",
    "</div>"
   ]
  },
  {
   "cell_type": "markdown",
   "metadata": {},
   "source": [
    "<a id='sk-id-curr'></a>\n",
    "## SK_ID_CURR"
   ]
  },
  {
   "cell_type": "code",
   "execution_count": 5,
   "metadata": {},
   "outputs": [
    {
     "data": {
      "text/plain": [
       "count    339587.000000\n",
       "mean         40.064552\n",
       "std          41.053343\n",
       "min           1.000000\n",
       "25%          12.000000\n",
       "50%          25.000000\n",
       "75%          51.000000\n",
       "max         372.000000\n",
       "dtype: float64"
      ]
     },
     "execution_count": 5,
     "metadata": {},
     "output_type": "execute_result"
    }
   ],
   "source": [
    "inp.groupby('SK_ID_CURR').size().describe()"
   ]
  },
  {
   "cell_type": "code",
   "execution_count": 6,
   "metadata": {},
   "outputs": [
    {
     "data": {
      "text/plain": [
       "<matplotlib.axes._subplots.AxesSubplot at 0x7ffb73803438>"
      ]
     },
     "execution_count": 6,
     "metadata": {},
     "output_type": "execute_result"
    },
    {
     "data": {
      "image/png": "[encoded data removed]",
      "text/plain": [
       "<Figure size 432x288 with 1 Axes>"
      ]
     },
     "metadata": {},
     "output_type": "display_data"
    }
   ],
   "source": [
    "inp.groupby('SK_ID_CURR').size().hist(bins=50)"
   ]
  },
  {
   "cell_type": "markdown",
   "metadata": {},
   "source": [
    "<div style=\"text-align: right;\">\n",
    "[back to top](#top)\n",
    "</div>"
   ]
  },
  {
   "cell_type": "markdown",
   "metadata": {},
   "source": [
    "<a id='sk-id-curr-sk-id-prev'></a>\n",
    "## SK_ID_CURR & SK_ID_PREV"
   ]
  },
  {
   "cell_type": "code",
   "execution_count": 7,
   "metadata": {},
   "outputs": [
    {
     "data": {
      "text/plain": [
       "<matplotlib.axes._subplots.AxesSubplot at 0x7ffb73789b70>"
      ]
     },
     "execution_count": 7,
     "metadata": {},
     "output_type": "execute_result"
    },
    {
     "data": {
      "image/png": "[encoded data removed]",
      "text/plain": [
       "<Figure size 432x288 with 1 Axes>"
      ]
     },
     "metadata": {},
     "output_type": "display_data"
    }
   ],
   "source": [
    "inp.groupby('SK_ID_CURR').SK_ID_PREV.nunique().hist(bins=20)"
   ]
  },
  {
   "cell_type": "markdown",
   "metadata": {},
   "source": [
    "<div style=\"text-align: right;\">\n",
    "[back to top](#top)\n",
    "</div>"
   ]
  },
  {
   "cell_type": "markdown",
   "metadata": {},
   "source": [
    "<a id='num-instalment-version'></a>\n",
    "## NUM_INSTALMENT_VERSION\n",
    "\n",
    "Version of installment calendar (0 is for credit card) of previous credit. Change of installment version from month to month signifies that some parameter of payment calendar has changed\n",
    "\n",
    "installmentのバージョンを管理しているらしい\n",
    "頻繁にinstallmentのカレンダーを変更している奴はやばいとかあるかもしれない"
   ]
  },
  {
   "cell_type": "code",
   "execution_count": 8,
   "metadata": {},
   "outputs": [
    {
     "data": {
      "text/plain": [
       "<matplotlib.axes._subplots.AxesSubplot at 0x7ffb736b59e8>"
      ]
     },
     "execution_count": 8,
     "metadata": {},
     "output_type": "execute_result"
    },
    {
     "data": {
      "image/png": "[encoded data removed]",
      "text/plain": [
       "<Figure size 432x288 with 1 Axes>"
      ]
     },
     "metadata": {},
     "output_type": "display_data"
    }
   ],
   "source": [
    "inp.NUM_INSTALMENT_VERSION.hist(bins=50)"
   ]
  },
  {
   "cell_type": "markdown",
   "metadata": {},
   "source": [
    "変更回数 = NUM_INSTALMENT_VERSIONのユニーク数"
   ]
  },
  {
   "cell_type": "code",
   "execution_count": 9,
   "metadata": {},
   "outputs": [],
   "source": [
    "cnt_instalment_ver = inp.groupby('SK_ID_PREV').agg({\n",
    "    'SK_ID_CURR': pd.Series.unique,\n",
    "    'NUM_INSTALMENT_VERSION': pd.Series.nunique,\n",
    "})"
   ]
  },
  {
   "cell_type": "code",
   "execution_count": 10,
   "metadata": {},
   "outputs": [],
   "source": [
    "cnt_instalment_ver = cnt_instalment_ver.groupby('SK_ID_CURR').sum()"
   ]
  },
  {
   "cell_type": "code",
   "execution_count": 11,
   "metadata": {},
   "outputs": [],
   "source": [
    "cnt_instalment_ver = cnt_instalment_ver.reset_index()"
   ]
  },
  {
   "cell_type": "code",
   "execution_count": 14,
   "metadata": {},
   "outputs": [],
   "source": [
    "cnt_instalment_ver = cnt_instalment_ver.merge(app_trn[['SK_ID_CURR', 'TARGET']], on='SK_ID_CURR', how='right')"
   ]
  },
  {
   "cell_type": "code",
   "execution_count": 15,
   "metadata": {},
   "outputs": [
    {
     "data": {
      "image/png": "[encoded data removed]",
      "text/plain": [
       "<Figure size 864x432 with 2 Axes>"
      ]
     },
     "metadata": {},
     "output_type": "display_data"
    }
   ],
   "source": [
    "target_hist(cnt_instalment_ver, 'NUM_INSTALMENT_VERSION', 'CNT_INSTALMENT_VERSION by Target')"
   ]
  },
  {
   "cell_type": "markdown",
   "metadata": {},
   "source": [
    "<div style=\"text-align: right;\">\n",
    "[back to top](#top)\n",
    "</div>"
   ]
  },
  {
   "cell_type": "markdown",
   "metadata": {},
   "source": [
    "<a id='num-instalment-number'></a>\n",
    "## NUM_INSTALMENT_NUMBER\n",
    "\n",
    "On which installment we observe payment\n",
    "\n",
    "何回目の支払いか"
   ]
  },
  {
   "cell_type": "code",
   "execution_count": 16,
   "metadata": {},
   "outputs": [
    {
     "data": {
      "text/plain": [
       "count    1.360540e+07\n",
       "mean     1.887090e+01\n",
       "std      2.666407e+01\n",
       "min      1.000000e+00\n",
       "25%      4.000000e+00\n",
       "50%      8.000000e+00\n",
       "75%      1.900000e+01\n",
       "max      2.770000e+02\n",
       "Name: NUM_INSTALMENT_NUMBER, dtype: float64"
      ]
     },
     "execution_count": 16,
     "metadata": {},
     "output_type": "execute_result"
    }
   ],
   "source": [
    "inp.NUM_INSTALMENT_NUMBER.describe()"
   ]
  },
  {
   "cell_type": "code",
   "execution_count": 17,
   "metadata": {
    "scrolled": true
   },
   "outputs": [
    {
     "data": {
      "text/plain": [
       "0     6\n",
       "1    34\n",
       "2     1\n",
       "3     3\n",
       "4     2\n",
       "Name: NUM_INSTALMENT_NUMBER, dtype: int64"
      ]
     },
     "execution_count": 17,
     "metadata": {},
     "output_type": "execute_result"
    }
   ],
   "source": [
    "inp.NUM_INSTALMENT_NUMBER.head()"
   ]
  },
  {
   "cell_type": "code",
   "execution_count": 18,
   "metadata": {},
   "outputs": [],
   "source": [
    "num_inst_max = inp.groupby('SK_ID_PREV').agg({\n",
    "    'SK_ID_CURR': pd.Series.unique,\n",
    "    'NUM_INSTALMENT_NUMBER': 'max'\n",
    "})"
   ]
  },
  {
   "cell_type": "code",
   "execution_count": 19,
   "metadata": {},
   "outputs": [],
   "source": [
    "num_inst_max_sum = num_inst_max.groupby('SK_ID_CURR').sum().reset_index()\n",
    "num_inst_max_sum = num_inst_max_sum.merge(app_trn[['SK_ID_CURR', 'TARGET']], on='SK_ID_CURR', how='right')"
   ]
  },
  {
   "cell_type": "code",
   "execution_count": 20,
   "metadata": {},
   "outputs": [
    {
     "data": {
      "image/png": "[encoded data removed]",
      "text/plain": [
       "<Figure size 864x432 with 2 Axes>"
      ]
     },
     "metadata": {},
     "output_type": "display_data"
    }
   ],
   "source": [
    "target_hist(num_inst_max_sum, 'NUM_INSTALMENT_NUMBER', 'sum(NUM_INSTALMENT_NUMBER) by Target')"
   ]
  },
  {
   "cell_type": "markdown",
   "metadata": {},
   "source": [
    "<a id='days-instalment'></a>\n",
    "## DAYS_INSTALMENT\n",
    "\n",
    "When the installment of previous credit was supposed to be paid (relative to application date of current loan)\n"
   ]
  },
  {
   "cell_type": "markdown",
   "metadata": {},
   "source": [
    "<a id='days-entry-payment'></a>\n",
    "## DAYS_ENTRY_PAYMENT\n",
    "\n",
    "When was the installments of previous credit paid actually (relative to application date of current loan)"
   ]
  },
  {
   "cell_type": "code",
   "execution_count": 21,
   "metadata": {},
   "outputs": [
    {
     "data": {
      "image/png": "[encoded data removed]",
      "text/plain": [
       "<Figure size 864x432 with 2 Axes>"
      ]
     },
     "metadata": {},
     "output_type": "display_data"
    },
    {
     "data": {
      "image/png": "[encoded data removed]",
      "text/plain": [
       "<Figure size 864x432 with 2 Axes>"
      ]
     },
     "metadata": {},
     "output_type": "display_data"
    }
   ],
   "source": [
    "# Days Before Due date\n",
    "inp['DBD'] = -(inp['DAYS_ENTRY_PAYMENT'] - inp['DAYS_INSTALMENT'])\n",
    "dbd = inp.groupby('SK_ID_PREV').agg({\n",
    "    'SK_ID_CURR': pd.Series.unique,\n",
    "    'DBD': ['max', 'min']\n",
    "})\n",
    "dbd.columns = ['_'.join(col).strip() for col in dbd.columns.values]\n",
    "\n",
    "dbd = dbd.rename(columns={\n",
    "    'SK_ID_CURR_unique': 'SK_ID_CURR',\n",
    "    'DBD_max': 'DBD_MAX',\n",
    "    'DBD_min': 'DBD_MIN'\n",
    "})\n",
    "agg_dbd = dbd.groupby('SK_ID_CURR').mean().reset_index()\n",
    "agg_dbd = agg_dbd.merge(\n",
    "    app_trn[['SK_ID_CURR', 'TARGET']],\n",
    "    on='SK_ID_CURR', how='right'\n",
    ")\n",
    "target_hist(agg_dbd, 'DBD_MAX', 'mean(DBD_MAX) by Target')\n",
    "target_hist(agg_dbd, 'DBD_MIN', 'mean(DBD_MIN) by Target')"
   ]
  },
  {
   "cell_type": "markdown",
   "metadata": {},
   "source": [
    "<a id='amt-instalment'></a>\n",
    "## AMT_INSTALMENT\n",
    "\n",
    "What was the prescribed installment amount of previous credit on this installment"
   ]
  },
  {
   "cell_type": "code",
   "execution_count": 22,
   "metadata": {
    "scrolled": false
   },
   "outputs": [
    {
     "data": {
      "text/html": [
       "<div>\n",
       "<style scoped>\n",
       "    .dataframe tbody tr th:only-of-type {\n",
       "        vertical-align: middle;\n",
       "    }\n",
       "\n",
       "    .dataframe tbody tr th {\n",
       "        vertical-align: top;\n",
       "    }\n",
       "\n",
       "    .dataframe thead th {\n",
       "        text-align: right;\n",
       "    }\n",
       "</style>\n",
       "<table border=\"1\" class=\"dataframe\">\n",
       "  <thead>\n",
       "    <tr style=\"text-align: right;\">\n",
       "      <th></th>\n",
       "      <th>SK_ID_PREV</th>\n",
       "      <th>AMT_INSTALMENT</th>\n",
       "      <th>NUM_INSTALMENT_NUMBER</th>\n",
       "    </tr>\n",
       "  </thead>\n",
       "  <tbody>\n",
       "    <tr>\n",
       "      <th>2681940</th>\n",
       "      <td>1887529</td>\n",
       "      <td>8518.86</td>\n",
       "      <td>1</td>\n",
       "    </tr>\n",
       "    <tr>\n",
       "      <th>1512957</th>\n",
       "      <td>1887529</td>\n",
       "      <td>8518.86</td>\n",
       "      <td>2</td>\n",
       "    </tr>\n",
       "    <tr>\n",
       "      <th>2814868</th>\n",
       "      <td>1887529</td>\n",
       "      <td>8518.86</td>\n",
       "      <td>3</td>\n",
       "    </tr>\n",
       "    <tr>\n",
       "      <th>760631</th>\n",
       "      <td>1887529</td>\n",
       "      <td>8518.86</td>\n",
       "      <td>4</td>\n",
       "    </tr>\n",
       "    <tr>\n",
       "      <th>1740900</th>\n",
       "      <td>1887529</td>\n",
       "      <td>8518.86</td>\n",
       "      <td>5</td>\n",
       "    </tr>\n",
       "    <tr>\n",
       "      <th>1130540</th>\n",
       "      <td>1887529</td>\n",
       "      <td>8518.86</td>\n",
       "      <td>5</td>\n",
       "    </tr>\n",
       "    <tr>\n",
       "      <th>3102450</th>\n",
       "      <td>1887529</td>\n",
       "      <td>8518.86</td>\n",
       "      <td>6</td>\n",
       "    </tr>\n",
       "    <tr>\n",
       "      <th>407</th>\n",
       "      <td>1887529</td>\n",
       "      <td>8518.86</td>\n",
       "      <td>6</td>\n",
       "    </tr>\n",
       "    <tr>\n",
       "      <th>120254</th>\n",
       "      <td>1887529</td>\n",
       "      <td>8518.86</td>\n",
       "      <td>7</td>\n",
       "    </tr>\n",
       "    <tr>\n",
       "      <th>3220701</th>\n",
       "      <td>1887529</td>\n",
       "      <td>8518.86</td>\n",
       "      <td>8</td>\n",
       "    </tr>\n",
       "    <tr>\n",
       "      <th>1260985</th>\n",
       "      <td>1887529</td>\n",
       "      <td>8518.86</td>\n",
       "      <td>9</td>\n",
       "    </tr>\n",
       "    <tr>\n",
       "      <th>542698</th>\n",
       "      <td>1887529</td>\n",
       "      <td>8518.86</td>\n",
       "      <td>9</td>\n",
       "    </tr>\n",
       "    <tr>\n",
       "      <th>1660160</th>\n",
       "      <td>1887529</td>\n",
       "      <td>8518.86</td>\n",
       "      <td>10</td>\n",
       "    </tr>\n",
       "    <tr>\n",
       "      <th>1826689</th>\n",
       "      <td>1887529</td>\n",
       "      <td>8518.86</td>\n",
       "      <td>10</td>\n",
       "    </tr>\n",
       "    <tr>\n",
       "      <th>2657725</th>\n",
       "      <td>1887529</td>\n",
       "      <td>8518.86</td>\n",
       "      <td>11</td>\n",
       "    </tr>\n",
       "    <tr>\n",
       "      <th>430212</th>\n",
       "      <td>1887529</td>\n",
       "      <td>8518.86</td>\n",
       "      <td>12</td>\n",
       "    </tr>\n",
       "    <tr>\n",
       "      <th>3283029</th>\n",
       "      <td>1887529</td>\n",
       "      <td>8518.86</td>\n",
       "      <td>13</td>\n",
       "    </tr>\n",
       "    <tr>\n",
       "      <th>563616</th>\n",
       "      <td>1887529</td>\n",
       "      <td>8518.86</td>\n",
       "      <td>14</td>\n",
       "    </tr>\n",
       "    <tr>\n",
       "      <th>2189852</th>\n",
       "      <td>1887529</td>\n",
       "      <td>8518.86</td>\n",
       "      <td>14</td>\n",
       "    </tr>\n",
       "    <tr>\n",
       "      <th>2873420</th>\n",
       "      <td>1887529</td>\n",
       "      <td>8518.86</td>\n",
       "      <td>15</td>\n",
       "    </tr>\n",
       "    <tr>\n",
       "      <th>2814869</th>\n",
       "      <td>1887529</td>\n",
       "      <td>8518.86</td>\n",
       "      <td>15</td>\n",
       "    </tr>\n",
       "    <tr>\n",
       "      <th>948147</th>\n",
       "      <td>1887529</td>\n",
       "      <td>8518.86</td>\n",
       "      <td>16</td>\n",
       "    </tr>\n",
       "    <tr>\n",
       "      <th>139530</th>\n",
       "      <td>1887529</td>\n",
       "      <td>8518.86</td>\n",
       "      <td>16</td>\n",
       "    </tr>\n",
       "    <tr>\n",
       "      <th>3654030</th>\n",
       "      <td>1887529</td>\n",
       "      <td>8518.86</td>\n",
       "      <td>17</td>\n",
       "    </tr>\n",
       "    <tr>\n",
       "      <th>422717</th>\n",
       "      <td>1887529</td>\n",
       "      <td>8518.86</td>\n",
       "      <td>17</td>\n",
       "    </tr>\n",
       "    <tr>\n",
       "      <th>2284903</th>\n",
       "      <td>1887529</td>\n",
       "      <td>8518.86</td>\n",
       "      <td>18</td>\n",
       "    </tr>\n",
       "    <tr>\n",
       "      <th>2285802</th>\n",
       "      <td>1887529</td>\n",
       "      <td>8518.86</td>\n",
       "      <td>18</td>\n",
       "    </tr>\n",
       "    <tr>\n",
       "      <th>119021</th>\n",
       "      <td>1887529</td>\n",
       "      <td>8518.86</td>\n",
       "      <td>19</td>\n",
       "    </tr>\n",
       "    <tr>\n",
       "      <th>800292</th>\n",
       "      <td>1887529</td>\n",
       "      <td>8518.86</td>\n",
       "      <td>19</td>\n",
       "    </tr>\n",
       "    <tr>\n",
       "      <th>3506742</th>\n",
       "      <td>1887529</td>\n",
       "      <td>8518.86</td>\n",
       "      <td>20</td>\n",
       "    </tr>\n",
       "    <tr>\n",
       "      <th>299088</th>\n",
       "      <td>1887529</td>\n",
       "      <td>8518.86</td>\n",
       "      <td>21</td>\n",
       "    </tr>\n",
       "    <tr>\n",
       "      <th>3133160</th>\n",
       "      <td>1887529</td>\n",
       "      <td>8518.86</td>\n",
       "      <td>22</td>\n",
       "    </tr>\n",
       "    <tr>\n",
       "      <th>2376744</th>\n",
       "      <td>1887529</td>\n",
       "      <td>8518.86</td>\n",
       "      <td>23</td>\n",
       "    </tr>\n",
       "    <tr>\n",
       "      <th>2886367</th>\n",
       "      <td>1887529</td>\n",
       "      <td>8264.52</td>\n",
       "      <td>24</td>\n",
       "    </tr>\n",
       "  </tbody>\n",
       "</table>\n",
       "</div>"
      ],
      "text/plain": [
       "         SK_ID_PREV  AMT_INSTALMENT  NUM_INSTALMENT_NUMBER\n",
       "2681940     1887529         8518.86                      1\n",
       "1512957     1887529         8518.86                      2\n",
       "2814868     1887529         8518.86                      3\n",
       "760631      1887529         8518.86                      4\n",
       "1740900     1887529         8518.86                      5\n",
       "1130540     1887529         8518.86                      5\n",
       "3102450     1887529         8518.86                      6\n",
       "407         1887529         8518.86                      6\n",
       "120254      1887529         8518.86                      7\n",
       "3220701     1887529         8518.86                      8\n",
       "1260985     1887529         8518.86                      9\n",
       "542698      1887529         8518.86                      9\n",
       "1660160     1887529         8518.86                     10\n",
       "1826689     1887529         8518.86                     10\n",
       "2657725     1887529         8518.86                     11\n",
       "430212      1887529         8518.86                     12\n",
       "3283029     1887529         8518.86                     13\n",
       "563616      1887529         8518.86                     14\n",
       "2189852     1887529         8518.86                     14\n",
       "2873420     1887529         8518.86                     15\n",
       "2814869     1887529         8518.86                     15\n",
       "948147      1887529         8518.86                     16\n",
       "139530      1887529         8518.86                     16\n",
       "3654030     1887529         8518.86                     17\n",
       "422717      1887529         8518.86                     17\n",
       "2284903     1887529         8518.86                     18\n",
       "2285802     1887529         8518.86                     18\n",
       "119021      1887529         8518.86                     19\n",
       "800292      1887529         8518.86                     19\n",
       "3506742     1887529         8518.86                     20\n",
       "299088      1887529         8518.86                     21\n",
       "3133160     1887529         8518.86                     22\n",
       "2376744     1887529         8518.86                     23\n",
       "2886367     1887529         8264.52                     24"
      ]
     },
     "execution_count": 22,
     "metadata": {},
     "output_type": "execute_result"
    }
   ],
   "source": [
    "inp[inp.SK_ID_PREV == inp.SK_ID_PREV.unique()[400]][[\n",
    "    'SK_ID_PREV',\n",
    "    'AMT_INSTALMENT',\n",
    "    'NUM_INSTALMENT_NUMBER'\n",
    "]].sort_values('NUM_INSTALMENT_NUMBER')"
   ]
  },
  {
   "cell_type": "markdown",
   "metadata": {},
   "source": [
    "<a id='amt-instalment'></a>\n",
    "## AMT_INSTALMENT\n",
    "\n",
    "What was the prescribed installment amount of previous credit on this installment"
   ]
  },
  {
   "cell_type": "raw",
   "metadata": {},
   "source": [
    "inp[inp.SK_ID_PREV == inp.SK_ID_PREV.unique()[400]][[\n",
    "    'SK_ID_PREV',\n",
    "    'AMT_PAYMENT',\n",
    "    'AMT_INSTALMENT',\n",
    "    'NUM_INSTALMENT_NUMBER'\n",
    "]].sort_values('NUM_INSTALMENT_NUMBER')"
   ]
  },
  {
   "cell_type": "markdown",
   "metadata": {},
   "source": [
    "<class 'pandas.core.frame.DataFrame'>\n",
    "Int64Index: 13605401 entries, 0 to 13605400\n",
    "Data columns (total 9 columns):\n",
    "SK_ID_PREV                int64\n",
    "SK_ID_CURR                int64\n",
    "NUM_INSTALMENT_VERSION    float64\n",
    "NUM_INSTALMENT_NUMBER     int64\n",
    "DAYS_INSTALMENT           float64\n",
    "DAYS_ENTRY_PAYMENT        float64\n",
    "AMT_INSTALMENT            float64\n",
    "AMT_PAYMENT               float64\n",
    "TARGET                    float64"
   ]
  },
  {
   "cell_type": "code",
   "execution_count": 30,
   "metadata": {},
   "outputs": [
    {
     "data": {
      "text/html": [
       "<div>\n",
       "<style scoped>\n",
       "    .dataframe tbody tr th:only-of-type {\n",
       "        vertical-align: middle;\n",
       "    }\n",
       "\n",
       "    .dataframe tbody tr th {\n",
       "        vertical-align: top;\n",
       "    }\n",
       "\n",
       "    .dataframe thead th {\n",
       "        text-align: right;\n",
       "    }\n",
       "</style>\n",
       "<table border=\"1\" class=\"dataframe\">\n",
       "  <thead>\n",
       "    <tr style=\"text-align: right;\">\n",
       "      <th></th>\n",
       "      <th>AMT_APPLICATION</th>\n",
       "      <th>AMT_CREDIT</th>\n",
       "      <th>RATE_INTEREST_PRIMARY</th>\n",
       "      <th>RATE_INTEREST_PRIVILEGED</th>\n",
       "    </tr>\n",
       "  </thead>\n",
       "  <tbody>\n",
       "    <tr>\n",
       "      <th>183894</th>\n",
       "      <td>185211.0</td>\n",
       "      <td>217971.0</td>\n",
       "      <td>NaN</td>\n",
       "      <td>NaN</td>\n",
       "    </tr>\n",
       "  </tbody>\n",
       "</table>\n",
       "</div>"
      ],
      "text/plain": [
       "        AMT_APPLICATION  AMT_CREDIT  RATE_INTEREST_PRIMARY  \\\n",
       "183894         185211.0    217971.0                    NaN   \n",
       "\n",
       "        RATE_INTEREST_PRIVILEGED  \n",
       "183894                       NaN  "
      ]
     },
     "execution_count": 30,
     "metadata": {},
     "output_type": "execute_result"
    }
   ],
   "source": [
    "prv[prv.SK_ID_PREV == inp.SK_ID_PREV.unique()[123]][['AMT_APPLICATION','AMT_CREDIT', 'RATE_INTEREST_PRIMARY', 'RATE_INTEREST_PRIVILEGED']]"
   ]
  },
  {
   "cell_type": "code",
   "execution_count": 29,
   "metadata": {},
   "outputs": [
    {
     "data": {
      "text/plain": [
       "235554.075"
      ]
     },
     "execution_count": 29,
     "metadata": {},
     "output_type": "execute_result"
    }
   ],
   "source": [
    "inp[inp.SK_ID_PREV == inp.SK_ID_PREV.unique()[123]][[\n",
    "    'SK_ID_PREV',\n",
    "    'AMT_PAYMENT',\n",
    "    'AMT_INSTALMENT',\n",
    "    'NUM_INSTALMENT_NUMBER'\n",
    "]].AMT_PAYMENT.sum()"
   ]
  }
 ],
 "metadata": {
  "anaconda-cloud": {},
  "kernelspec": {
   "display_name": "Python 3",
   "language": "python",
   "name": "python3"
  },
  "language_info": {
   "codemirror_mode": {
    "name": "ipython",
    "version": 3
   },
   "file_extension": ".py",
   "mimetype": "text/x-python",
   "name": "python",
   "nbconvert_exporter": "python",
   "pygments_lexer": "ipython3",
   "version": "3.5.4"
  }
 },
 "nbformat": 4,
 "nbformat_minor": 2
}
